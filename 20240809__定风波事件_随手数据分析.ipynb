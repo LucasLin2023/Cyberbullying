{
  "nbformat": 4,
  "nbformat_minor": 0,
  "metadata": {
    "colab": {
      "provenance": [],
      "collapsed_sections": [
        "UU8w_h3q4oOW"
      ],
      "authorship_tag": "ABX9TyNt1MIzK1JAl1DxpOLlkUcZ",
      "include_colab_link": true
    },
    "kernelspec": {
      "name": "python3",
      "display_name": "Python 3"
    },
    "language_info": {
      "name": "python"
    }
  },
  "cells": [
    {
      "cell_type": "markdown",
      "metadata": {
        "id": "view-in-github",
        "colab_type": "text"
      },
      "source": [
        "<a href=\"https://colab.research.google.com/github/LucasLin2023/Cyberbullying/blob/main/20240809__%E5%AE%9A%E9%A3%8E%E6%B3%A2%E4%BA%8B%E4%BB%B6_%E9%9A%8F%E6%89%8B%E6%95%B0%E6%8D%AE%E5%88%86%E6%9E%90.ipynb\" target=\"_parent\"><img src=\"https://colab.research.google.com/assets/colab-badge.svg\" alt=\"Open In Colab\"/></a>"
      ]
    },
    {
      "cell_type": "code",
      "source": [
        "from google.colab import drive\n",
        "drive.mount('/content/drive')"
      ],
      "metadata": {
        "colab": {
          "base_uri": "https://localhost:8080/"
        },
        "id": "hAYRt3E7Kbni",
        "outputId": "2fc8d36c-f673-4549-cd6f-6509c20476d4"
      },
      "execution_count": null,
      "outputs": [
        {
          "output_type": "stream",
          "name": "stdout",
          "text": [
            "Mounted at /content/drive\n"
          ]
        }
      ]
    },
    {
      "cell_type": "markdown",
      "source": [
        "把评论区数据从github 拿过来~~"
      ],
      "metadata": {
        "id": "CFUVIlE5ssb8"
      }
    },
    {
      "cell_type": "code",
      "source": [
        "from google.colab import userdata\n",
        "my_api = userdata.get('my_openai_api') # you have to store your own openai api key in secret key to use llm."
      ],
      "metadata": {
        "id": "osRGLrb8BNSD"
      },
      "execution_count": null,
      "outputs": []
    },
    {
      "cell_type": "code",
      "source": [
        "!pip install openai==0.28"
      ],
      "metadata": {
        "id": "iYBNs-pTNEI0",
        "colab": {
          "base_uri": "https://localhost:8080/"
        },
        "outputId": "2a847e27-ca07-42cf-d266-e3daf9c1419e"
      },
      "execution_count": null,
      "outputs": [
        {
          "output_type": "stream",
          "name": "stdout",
          "text": [
            "Collecting openai==0.28\n",
            "  Downloading openai-0.28.0-py3-none-any.whl.metadata (13 kB)\n",
            "Requirement already satisfied: requests>=2.20 in /usr/local/lib/python3.10/dist-packages (from openai==0.28) (2.32.3)\n",
            "Requirement already satisfied: tqdm in /usr/local/lib/python3.10/dist-packages (from openai==0.28) (4.66.5)\n",
            "Requirement already satisfied: aiohttp in /usr/local/lib/python3.10/dist-packages (from openai==0.28) (3.10.2)\n",
            "Requirement already satisfied: charset-normalizer<4,>=2 in /usr/local/lib/python3.10/dist-packages (from requests>=2.20->openai==0.28) (3.3.2)\n",
            "Requirement already satisfied: idna<4,>=2.5 in /usr/local/lib/python3.10/dist-packages (from requests>=2.20->openai==0.28) (3.7)\n",
            "Requirement already satisfied: urllib3<3,>=1.21.1 in /usr/local/lib/python3.10/dist-packages (from requests>=2.20->openai==0.28) (2.0.7)\n",
            "Requirement already satisfied: certifi>=2017.4.17 in /usr/local/lib/python3.10/dist-packages (from requests>=2.20->openai==0.28) (2024.7.4)\n",
            "Requirement already satisfied: aiohappyeyeballs>=2.3.0 in /usr/local/lib/python3.10/dist-packages (from aiohttp->openai==0.28) (2.3.5)\n",
            "Requirement already satisfied: aiosignal>=1.1.2 in /usr/local/lib/python3.10/dist-packages (from aiohttp->openai==0.28) (1.3.1)\n",
            "Requirement already satisfied: attrs>=17.3.0 in /usr/local/lib/python3.10/dist-packages (from aiohttp->openai==0.28) (24.2.0)\n",
            "Requirement already satisfied: frozenlist>=1.1.1 in /usr/local/lib/python3.10/dist-packages (from aiohttp->openai==0.28) (1.4.1)\n",
            "Requirement already satisfied: multidict<7.0,>=4.5 in /usr/local/lib/python3.10/dist-packages (from aiohttp->openai==0.28) (6.0.5)\n",
            "Requirement already satisfied: yarl<2.0,>=1.0 in /usr/local/lib/python3.10/dist-packages (from aiohttp->openai==0.28) (1.9.4)\n",
            "Requirement already satisfied: async-timeout<5.0,>=4.0 in /usr/local/lib/python3.10/dist-packages (from aiohttp->openai==0.28) (4.0.3)\n",
            "Downloading openai-0.28.0-py3-none-any.whl (76 kB)\n",
            "\u001b[2K   \u001b[90m━━━━━━━━━━━━━━━━━━━━━━━━━━━━━━━━━━━━━━━━\u001b[0m \u001b[32m76.5/76.5 kB\u001b[0m \u001b[31m4.1 MB/s\u001b[0m eta \u001b[36m0:00:00\u001b[0m\n",
            "\u001b[?25hInstalling collected packages: openai\n",
            "Successfully installed openai-0.28.0\n"
          ]
        }
      ]
    },
    {
      "cell_type": "code",
      "execution_count": null,
      "metadata": {
        "colab": {
          "base_uri": "https://localhost:8080/"
        },
        "id": "J5Y2QxvPJqIv",
        "outputId": "51b1e821-f2a2-431a-ad6d-f3ebebdec35b"
      },
      "outputs": [
        {
          "output_type": "stream",
          "name": "stdout",
          "text": [
            "Cloning into 'Cyberbullying'...\n",
            "remote: Enumerating objects: 209, done.\u001b[K\n",
            "remote: Counting objects: 100% (134/134), done.\u001b[K\n",
            "remote: Compressing objects: 100% (80/80), done.\u001b[K\n",
            "remote: Total 209 (delta 98), reused 62 (delta 53), pack-reused 75 (from 1)\u001b[K\n",
            "Receiving objects: 100% (209/209), 10.77 MiB | 9.00 MiB/s, done.\n",
            "Resolving deltas: 100% (111/111), done.\n",
            "/content/Cyberbullying/Cyberbullying\n",
            "20240806_1742_陈丽君偷歌话题相关微博.csv  README.md\t      topic_trend_with_explanation.png\n",
            "chinese.msyh.ttf\t\t\t  response_trend.png  userinfo\n",
            "comments\t\t\t\t  stopwords-zh.txt    相关文件描述.txt\n",
            "freq_poster.png\t\t\t\t  topics\n"
          ]
        }
      ],
      "source": [
        "!git clone https://github.com/LucasLin2023/Cyberbullying.git\n",
        "%cd Cyberbullying\n",
        "!ls"
      ]
    },
    {
      "cell_type": "code",
      "source": [
        "import pandas as pd\n",
        "import numpy as np\n",
        "import warnings\n",
        "import glob\n",
        "import os\n",
        "\n",
        "warnings.filterwarnings('ignore')"
      ],
      "metadata": {
        "id": "myHEWsmXK4Su"
      },
      "execution_count": null,
      "outputs": []
    },
    {
      "cell_type": "code",
      "source": [
        "glob.glob(\"./topics/*.csv\")"
      ],
      "metadata": {
        "colab": {
          "base_uri": "https://localhost:8080/"
        },
        "id": "yPZvQXjJ38eA",
        "outputId": "64c1d5d3-7f1d-49a9-fe87-67fbc23e26ac"
      },
      "execution_count": null,
      "outputs": [
        {
          "output_type": "execute_result",
          "data": {
            "text/plain": [
              "['./topics/20240808_2151_陈丽君回应周深粉丝话题相关微博.csv',\n",
              " './topics/20240808_2151_相关用户信息.csv',\n",
              " './topics/20240808_2151_陈丽君回复周深粉丝话题相关微博.csv',\n",
              " './topics/20240808_2151_陈丽君偷歌话题相关微博.csv']"
            ]
          },
          "metadata": {},
          "execution_count": 6
        }
      ]
    },
    {
      "cell_type": "code",
      "source": [
        "glob.glob(\"./comments/*.csv\")"
      ],
      "metadata": {
        "colab": {
          "base_uri": "https://localhost:8080/"
        },
        "id": "YbGl0-MH-A-S",
        "outputId": "ca7d0a9d-4497-4c11-d6cb-065345699adf"
      },
      "execution_count": null,
      "outputs": [
        {
          "output_type": "execute_result",
          "data": {
            "text/plain": [
              "['./comments/20240807_1751_陈丽君评论区热评.csv',\n",
              " './comments/20240809_1159_陈丽君评论区热评.csv',\n",
              " './comments/20240807_1137_陈丽君评论区热评.csv']"
            ]
          },
          "metadata": {},
          "execution_count": 24
        }
      ]
    },
    {
      "cell_type": "code",
      "source": [
        "df_comment = pd.read_csv('./comments/20240809_1159_陈丽君评论区热评.csv')\n",
        "df_user = pd.read_csv('./topics/20240808_2151_相关用户信息.csv')\n",
        "df_tg = pd.read_csv('./topics/20240808_2151_陈丽君偷歌话题相关微博.csv')\n",
        "df_user = df_user[['微博发布者id','微博简介', '认证状态', '认证理由']].rename(columns={'微博发布者id':'评论者id'})"
      ],
      "metadata": {
        "id": "bnY0Mdj3K74R"
      },
      "execution_count": null,
      "outputs": []
    },
    {
      "cell_type": "markdown",
      "source": [
        "## 陈丽君老师微博评论区小分析"
      ],
      "metadata": {
        "id": "tny2YK-DQwSc"
      }
    },
    {
      "cell_type": "code",
      "source": [
        "df_comment.head()"
      ],
      "metadata": {
        "colab": {
          "base_uri": "https://localhost:8080/",
          "height": 310
        },
        "id": "qXuG9SwZLfvN",
        "outputId": "b0d27607-1397-482b-8200-2970937d6f51"
      },
      "execution_count": null,
      "outputs": [
        {
          "output_type": "execute_result",
          "data": {
            "text/plain": [
              "               评论id       评论者id                 评论时间      评论者姓名 评论者IP归属地  \\\n",
              "0  5063834022707959  6761369485  2024-08-05 02:19:35  大土豆你个破忒头_     来自福建   \n",
              "1  5063833976047058  7444504753  2024-08-05 02:19:24      不想穿校裤     来自湖北   \n",
              "2  5063833952191436  7767636727  2024-08-05 02:19:18   搅碎一池星月--     来自陕西   \n",
              "3  5063834012222504  7007259210  2024-08-05 02:19:33      漠然-淡然     来自江苏   \n",
              "4  5063834006195073  7742534781  2024-08-05 02:19:31  阿Mei的好多天_     来自陕西   \n",
              "\n",
              "        评论者粉籍           评论内容 fan_cnt  like_cnt  \n",
              "0  loyal_fans    宝宝唱的真好 快点休息    1.1万     12666  \n",
              "1  loyal_fans        宝宝你超棒的！    2123     10384  \n",
              "2  loyal_fans       宝宝。你是最棒的      77      9513  \n",
              "3  loyal_fans  啊仙君你来了早点休息辛苦了      58      9072  \n",
              "4  loyal_fans    宝宝你特别棒！！超级美      64      8317  "
            ],
            "text/html": [
              "\n",
              "  <div id=\"df-0fe5b7fb-ce8d-4d89-836c-266441aecf3a\" class=\"colab-df-container\">\n",
              "    <div>\n",
              "<style scoped>\n",
              "    .dataframe tbody tr th:only-of-type {\n",
              "        vertical-align: middle;\n",
              "    }\n",
              "\n",
              "    .dataframe tbody tr th {\n",
              "        vertical-align: top;\n",
              "    }\n",
              "\n",
              "    .dataframe thead th {\n",
              "        text-align: right;\n",
              "    }\n",
              "</style>\n",
              "<table border=\"1\" class=\"dataframe\">\n",
              "  <thead>\n",
              "    <tr style=\"text-align: right;\">\n",
              "      <th></th>\n",
              "      <th>评论id</th>\n",
              "      <th>评论者id</th>\n",
              "      <th>评论时间</th>\n",
              "      <th>评论者姓名</th>\n",
              "      <th>评论者IP归属地</th>\n",
              "      <th>评论者粉籍</th>\n",
              "      <th>评论内容</th>\n",
              "      <th>fan_cnt</th>\n",
              "      <th>like_cnt</th>\n",
              "    </tr>\n",
              "  </thead>\n",
              "  <tbody>\n",
              "    <tr>\n",
              "      <th>0</th>\n",
              "      <td>5063834022707959</td>\n",
              "      <td>6761369485</td>\n",
              "      <td>2024-08-05 02:19:35</td>\n",
              "      <td>大土豆你个破忒头_</td>\n",
              "      <td>来自福建</td>\n",
              "      <td>loyal_fans</td>\n",
              "      <td>宝宝唱的真好 快点休息</td>\n",
              "      <td>1.1万</td>\n",
              "      <td>12666</td>\n",
              "    </tr>\n",
              "    <tr>\n",
              "      <th>1</th>\n",
              "      <td>5063833976047058</td>\n",
              "      <td>7444504753</td>\n",
              "      <td>2024-08-05 02:19:24</td>\n",
              "      <td>不想穿校裤</td>\n",
              "      <td>来自湖北</td>\n",
              "      <td>loyal_fans</td>\n",
              "      <td>宝宝你超棒的！</td>\n",
              "      <td>2123</td>\n",
              "      <td>10384</td>\n",
              "    </tr>\n",
              "    <tr>\n",
              "      <th>2</th>\n",
              "      <td>5063833952191436</td>\n",
              "      <td>7767636727</td>\n",
              "      <td>2024-08-05 02:19:18</td>\n",
              "      <td>搅碎一池星月--</td>\n",
              "      <td>来自陕西</td>\n",
              "      <td>loyal_fans</td>\n",
              "      <td>宝宝。你是最棒的</td>\n",
              "      <td>77</td>\n",
              "      <td>9513</td>\n",
              "    </tr>\n",
              "    <tr>\n",
              "      <th>3</th>\n",
              "      <td>5063834012222504</td>\n",
              "      <td>7007259210</td>\n",
              "      <td>2024-08-05 02:19:33</td>\n",
              "      <td>漠然-淡然</td>\n",
              "      <td>来自江苏</td>\n",
              "      <td>loyal_fans</td>\n",
              "      <td>啊仙君你来了早点休息辛苦了</td>\n",
              "      <td>58</td>\n",
              "      <td>9072</td>\n",
              "    </tr>\n",
              "    <tr>\n",
              "      <th>4</th>\n",
              "      <td>5063834006195073</td>\n",
              "      <td>7742534781</td>\n",
              "      <td>2024-08-05 02:19:31</td>\n",
              "      <td>阿Mei的好多天_</td>\n",
              "      <td>来自陕西</td>\n",
              "      <td>loyal_fans</td>\n",
              "      <td>宝宝你特别棒！！超级美</td>\n",
              "      <td>64</td>\n",
              "      <td>8317</td>\n",
              "    </tr>\n",
              "  </tbody>\n",
              "</table>\n",
              "</div>\n",
              "    <div class=\"colab-df-buttons\">\n",
              "\n",
              "  <div class=\"colab-df-container\">\n",
              "    <button class=\"colab-df-convert\" onclick=\"convertToInteractive('df-0fe5b7fb-ce8d-4d89-836c-266441aecf3a')\"\n",
              "            title=\"Convert this dataframe to an interactive table.\"\n",
              "            style=\"display:none;\">\n",
              "\n",
              "  <svg xmlns=\"http://www.w3.org/2000/svg\" height=\"24px\" viewBox=\"0 -960 960 960\">\n",
              "    <path d=\"M120-120v-720h720v720H120Zm60-500h600v-160H180v160Zm220 220h160v-160H400v160Zm0 220h160v-160H400v160ZM180-400h160v-160H180v160Zm440 0h160v-160H620v160ZM180-180h160v-160H180v160Zm440 0h160v-160H620v160Z\"/>\n",
              "  </svg>\n",
              "    </button>\n",
              "\n",
              "  <style>\n",
              "    .colab-df-container {\n",
              "      display:flex;\n",
              "      gap: 12px;\n",
              "    }\n",
              "\n",
              "    .colab-df-convert {\n",
              "      background-color: #E8F0FE;\n",
              "      border: none;\n",
              "      border-radius: 50%;\n",
              "      cursor: pointer;\n",
              "      display: none;\n",
              "      fill: #1967D2;\n",
              "      height: 32px;\n",
              "      padding: 0 0 0 0;\n",
              "      width: 32px;\n",
              "    }\n",
              "\n",
              "    .colab-df-convert:hover {\n",
              "      background-color: #E2EBFA;\n",
              "      box-shadow: 0px 1px 2px rgba(60, 64, 67, 0.3), 0px 1px 3px 1px rgba(60, 64, 67, 0.15);\n",
              "      fill: #174EA6;\n",
              "    }\n",
              "\n",
              "    .colab-df-buttons div {\n",
              "      margin-bottom: 4px;\n",
              "    }\n",
              "\n",
              "    [theme=dark] .colab-df-convert {\n",
              "      background-color: #3B4455;\n",
              "      fill: #D2E3FC;\n",
              "    }\n",
              "\n",
              "    [theme=dark] .colab-df-convert:hover {\n",
              "      background-color: #434B5C;\n",
              "      box-shadow: 0px 1px 3px 1px rgba(0, 0, 0, 0.15);\n",
              "      filter: drop-shadow(0px 1px 2px rgba(0, 0, 0, 0.3));\n",
              "      fill: #FFFFFF;\n",
              "    }\n",
              "  </style>\n",
              "\n",
              "    <script>\n",
              "      const buttonEl =\n",
              "        document.querySelector('#df-0fe5b7fb-ce8d-4d89-836c-266441aecf3a button.colab-df-convert');\n",
              "      buttonEl.style.display =\n",
              "        google.colab.kernel.accessAllowed ? 'block' : 'none';\n",
              "\n",
              "      async function convertToInteractive(key) {\n",
              "        const element = document.querySelector('#df-0fe5b7fb-ce8d-4d89-836c-266441aecf3a');\n",
              "        const dataTable =\n",
              "          await google.colab.kernel.invokeFunction('convertToInteractive',\n",
              "                                                    [key], {});\n",
              "        if (!dataTable) return;\n",
              "\n",
              "        const docLinkHtml = 'Like what you see? Visit the ' +\n",
              "          '<a target=\"_blank\" href=https://colab.research.google.com/notebooks/data_table.ipynb>data table notebook</a>'\n",
              "          + ' to learn more about interactive tables.';\n",
              "        element.innerHTML = '';\n",
              "        dataTable['output_type'] = 'display_data';\n",
              "        await google.colab.output.renderOutput(dataTable, element);\n",
              "        const docLink = document.createElement('div');\n",
              "        docLink.innerHTML = docLinkHtml;\n",
              "        element.appendChild(docLink);\n",
              "      }\n",
              "    </script>\n",
              "  </div>\n",
              "\n",
              "\n",
              "<div id=\"df-7aa23d33-26d2-4bd7-8122-c6e6e9729797\">\n",
              "  <button class=\"colab-df-quickchart\" onclick=\"quickchart('df-7aa23d33-26d2-4bd7-8122-c6e6e9729797')\"\n",
              "            title=\"Suggest charts\"\n",
              "            style=\"display:none;\">\n",
              "\n",
              "<svg xmlns=\"http://www.w3.org/2000/svg\" height=\"24px\"viewBox=\"0 0 24 24\"\n",
              "     width=\"24px\">\n",
              "    <g>\n",
              "        <path d=\"M19 3H5c-1.1 0-2 .9-2 2v14c0 1.1.9 2 2 2h14c1.1 0 2-.9 2-2V5c0-1.1-.9-2-2-2zM9 17H7v-7h2v7zm4 0h-2V7h2v10zm4 0h-2v-4h2v4z\"/>\n",
              "    </g>\n",
              "</svg>\n",
              "  </button>\n",
              "\n",
              "<style>\n",
              "  .colab-df-quickchart {\n",
              "      --bg-color: #E8F0FE;\n",
              "      --fill-color: #1967D2;\n",
              "      --hover-bg-color: #E2EBFA;\n",
              "      --hover-fill-color: #174EA6;\n",
              "      --disabled-fill-color: #AAA;\n",
              "      --disabled-bg-color: #DDD;\n",
              "  }\n",
              "\n",
              "  [theme=dark] .colab-df-quickchart {\n",
              "      --bg-color: #3B4455;\n",
              "      --fill-color: #D2E3FC;\n",
              "      --hover-bg-color: #434B5C;\n",
              "      --hover-fill-color: #FFFFFF;\n",
              "      --disabled-bg-color: #3B4455;\n",
              "      --disabled-fill-color: #666;\n",
              "  }\n",
              "\n",
              "  .colab-df-quickchart {\n",
              "    background-color: var(--bg-color);\n",
              "    border: none;\n",
              "    border-radius: 50%;\n",
              "    cursor: pointer;\n",
              "    display: none;\n",
              "    fill: var(--fill-color);\n",
              "    height: 32px;\n",
              "    padding: 0;\n",
              "    width: 32px;\n",
              "  }\n",
              "\n",
              "  .colab-df-quickchart:hover {\n",
              "    background-color: var(--hover-bg-color);\n",
              "    box-shadow: 0 1px 2px rgba(60, 64, 67, 0.3), 0 1px 3px 1px rgba(60, 64, 67, 0.15);\n",
              "    fill: var(--button-hover-fill-color);\n",
              "  }\n",
              "\n",
              "  .colab-df-quickchart-complete:disabled,\n",
              "  .colab-df-quickchart-complete:disabled:hover {\n",
              "    background-color: var(--disabled-bg-color);\n",
              "    fill: var(--disabled-fill-color);\n",
              "    box-shadow: none;\n",
              "  }\n",
              "\n",
              "  .colab-df-spinner {\n",
              "    border: 2px solid var(--fill-color);\n",
              "    border-color: transparent;\n",
              "    border-bottom-color: var(--fill-color);\n",
              "    animation:\n",
              "      spin 1s steps(1) infinite;\n",
              "  }\n",
              "\n",
              "  @keyframes spin {\n",
              "    0% {\n",
              "      border-color: transparent;\n",
              "      border-bottom-color: var(--fill-color);\n",
              "      border-left-color: var(--fill-color);\n",
              "    }\n",
              "    20% {\n",
              "      border-color: transparent;\n",
              "      border-left-color: var(--fill-color);\n",
              "      border-top-color: var(--fill-color);\n",
              "    }\n",
              "    30% {\n",
              "      border-color: transparent;\n",
              "      border-left-color: var(--fill-color);\n",
              "      border-top-color: var(--fill-color);\n",
              "      border-right-color: var(--fill-color);\n",
              "    }\n",
              "    40% {\n",
              "      border-color: transparent;\n",
              "      border-right-color: var(--fill-color);\n",
              "      border-top-color: var(--fill-color);\n",
              "    }\n",
              "    60% {\n",
              "      border-color: transparent;\n",
              "      border-right-color: var(--fill-color);\n",
              "    }\n",
              "    80% {\n",
              "      border-color: transparent;\n",
              "      border-right-color: var(--fill-color);\n",
              "      border-bottom-color: var(--fill-color);\n",
              "    }\n",
              "    90% {\n",
              "      border-color: transparent;\n",
              "      border-bottom-color: var(--fill-color);\n",
              "    }\n",
              "  }\n",
              "</style>\n",
              "\n",
              "  <script>\n",
              "    async function quickchart(key) {\n",
              "      const quickchartButtonEl =\n",
              "        document.querySelector('#' + key + ' button');\n",
              "      quickchartButtonEl.disabled = true;  // To prevent multiple clicks.\n",
              "      quickchartButtonEl.classList.add('colab-df-spinner');\n",
              "      try {\n",
              "        const charts = await google.colab.kernel.invokeFunction(\n",
              "            'suggestCharts', [key], {});\n",
              "      } catch (error) {\n",
              "        console.error('Error during call to suggestCharts:', error);\n",
              "      }\n",
              "      quickchartButtonEl.classList.remove('colab-df-spinner');\n",
              "      quickchartButtonEl.classList.add('colab-df-quickchart-complete');\n",
              "    }\n",
              "    (() => {\n",
              "      let quickchartButtonEl =\n",
              "        document.querySelector('#df-7aa23d33-26d2-4bd7-8122-c6e6e9729797 button');\n",
              "      quickchartButtonEl.style.display =\n",
              "        google.colab.kernel.accessAllowed ? 'block' : 'none';\n",
              "    })();\n",
              "  </script>\n",
              "</div>\n",
              "\n",
              "    </div>\n",
              "  </div>\n"
            ],
            "application/vnd.google.colaboratory.intrinsic+json": {
              "type": "dataframe",
              "variable_name": "df_comment",
              "summary": "{\n  \"name\": \"df_comment\",\n  \"rows\": 1653,\n  \"fields\": [\n    {\n      \"column\": \"\\u8bc4\\u8bbaid\",\n      \"properties\": {\n        \"dtype\": \"number\",\n        \"std\": 338585794736,\n        \"min\": 5063833934628447,\n        \"max\": 5064778355835361,\n        \"num_unique_values\": 1647,\n        \"samples\": [\n          5063844328636922,\n          5064377525604904,\n          5063834827490334\n        ],\n        \"semantic_type\": \"\",\n        \"description\": \"\"\n      }\n    },\n    {\n      \"column\": \"\\u8bc4\\u8bba\\u8005id\",\n      \"properties\": {\n        \"dtype\": \"number\",\n        \"std\": 1990460179,\n        \"min\": 1012103714,\n        \"max\": 7939688902,\n        \"num_unique_values\": 1139,\n        \"samples\": [\n          7924223930,\n          7931173267,\n          7377056409\n        ],\n        \"semantic_type\": \"\",\n        \"description\": \"\"\n      }\n    },\n    {\n      \"column\": \"\\u8bc4\\u8bba\\u65f6\\u95f4\",\n      \"properties\": {\n        \"dtype\": \"object\",\n        \"num_unique_values\": 1553,\n        \"samples\": [\n          \"2024-08-05 03:39:53\",\n          \"2024-08-05 16:12:23\",\n          \"2024-08-05 03:49:42\"\n        ],\n        \"semantic_type\": \"\",\n        \"description\": \"\"\n      }\n    },\n    {\n      \"column\": \"\\u8bc4\\u8bba\\u8005\\u59d3\\u540d\",\n      \"properties\": {\n        \"dtype\": \"string\",\n        \"num_unique_values\": 1142,\n        \"samples\": [\n          \"juice\\u55b5\\u55b5\",\n          \"\\u65e0\\u75d5_wh\",\n          \"\\u4eca\\u591c\\u6211\\u4e0d\\u5173\\u5fc3\\u4eba\\u7c7b\\u53ea\\u5173\\u5fc3\\u6c34\\u8c5a\"\n        ],\n        \"semantic_type\": \"\",\n        \"description\": \"\"\n      }\n    },\n    {\n      \"column\": \"\\u8bc4\\u8bba\\u8005IP\\u5f52\\u5c5e\\u5730\",\n      \"properties\": {\n        \"dtype\": \"category\",\n        \"num_unique_values\": 47,\n        \"samples\": [\n          \"\\u6765\\u81ea\\u4e0a\\u6d77\",\n          \"\\u6765\\u81ea\\u745e\\u5178\",\n          \"\\u6765\\u81ea\\u6cb3\\u5317\"\n        ],\n        \"semantic_type\": \"\",\n        \"description\": \"\"\n      }\n    },\n    {\n      \"column\": \"\\u8bc4\\u8bba\\u8005\\u7c89\\u7c4d\",\n      \"properties\": {\n        \"dtype\": \"category\",\n        \"num_unique_values\": 1,\n        \"samples\": [\n          \"loyal_fans\"\n        ],\n        \"semantic_type\": \"\",\n        \"description\": \"\"\n      }\n    },\n    {\n      \"column\": \"\\u8bc4\\u8bba\\u5185\\u5bb9\",\n      \"properties\": {\n        \"dtype\": \"string\",\n        \"num_unique_values\": 1422,\n        \"samples\": [\n          \"\\u5b9d\\u5b9d\\u5531\\u7684\\u8d85\\u7ea7\\u597d\\u542c\\u65e9\\u70b9\\u7761\\u89c9\\u5440\\uff01\"\n        ],\n        \"semantic_type\": \"\",\n        \"description\": \"\"\n      }\n    },\n    {\n      \"column\": \"fan_cnt\",\n      \"properties\": {\n        \"dtype\": \"category\",\n        \"num_unique_values\": 401,\n        \"samples\": [\n          \"211\"\n        ],\n        \"semantic_type\": \"\",\n        \"description\": \"\"\n      }\n    },\n    {\n      \"column\": \"like_cnt\",\n      \"properties\": {\n        \"dtype\": \"number\",\n        \"std\": 836,\n        \"min\": 0,\n        \"max\": 12666,\n        \"num_unique_values\": 242,\n        \"samples\": [\n          3071\n        ],\n        \"semantic_type\": \"\",\n        \"description\": \"\"\n      }\n    }\n  ]\n}"
            }
          },
          "metadata": {},
          "execution_count": 26
        }
      ]
    },
    {
      "cell_type": "markdown",
      "source": [
        "过滤无粉丝tag的用户\n"
      ],
      "metadata": {
        "id": "7kZ-pWmQQyRt"
      }
    },
    {
      "cell_type": "code",
      "source": [
        "df_non_fan = df_comment[df_comment['评论者粉籍']!='loyal_fans']"
      ],
      "metadata": {
        "id": "PBb6slSzNcZs"
      },
      "execution_count": null,
      "outputs": []
    },
    {
      "cell_type": "code",
      "source": [
        "print(f\"{len(df_non_fan)} 条评论来自无铁粉标签的用户，其余{len(df_comment)-len(df_non_fan)}条来自明确来自粉丝\")"
      ],
      "metadata": {
        "colab": {
          "base_uri": "https://localhost:8080/"
        },
        "id": "mbwFhaV4Nxlc",
        "outputId": "d8d3177b-bef9-4ec0-ef32-01afd5ab5ad4"
      },
      "execution_count": null,
      "outputs": [
        {
          "output_type": "stream",
          "name": "stdout",
          "text": [
            "410 条评论来自无铁粉标签的用户，其余1243条来自明确来自粉丝\n"
          ]
        }
      ]
    },
    {
      "cell_type": "code",
      "source": [
        "fan_kw = ['宝宝','君君','君宝','小俊'] #你们叫的好亲昵哦\n",
        "pattern = '|'.join(fan_kw)\n",
        "filtered_df = df_non_fan[~df_non_fan['评论内容'].str.contains(pattern, na=False)]\n",
        "print(f\"去掉含有粉丝常用关键词后还剩 {len(filtered_df)} 条评论作为分析使用 \")"
      ],
      "metadata": {
        "colab": {
          "base_uri": "https://localhost:8080/"
        },
        "id": "Ojh5J2QQTqOJ",
        "outputId": "a3ebad8f-c4b8-408e-fbb9-c2029bc206ca"
      },
      "execution_count": null,
      "outputs": [
        {
          "output_type": "stream",
          "name": "stdout",
          "text": [
            "去掉含有粉丝常用关键词后还剩 352 条评论作为分析使用 \n"
          ]
        }
      ]
    },
    {
      "cell_type": "markdown",
      "source": [
        "统计评论区文案的出现频率，并由高到低排列\n"
      ],
      "metadata": {
        "id": "pCesJwWjShl6"
      }
    },
    {
      "cell_type": "code",
      "source": [
        "filtered_df.groupby('评论内容').agg({'评论者姓名':'count'})\\\n",
        ".reset_index().rename(columns={'评论者姓名':'相同文案出现频率'}).sort_values('相同文案出现频率',ascending=False)"
      ],
      "metadata": {
        "colab": {
          "base_uri": "https://localhost:8080/",
          "height": 424
        },
        "id": "1_5f6fFCORc2",
        "outputId": "be6bb3d2-6f60-458d-e20e-163a3439f90e"
      },
      "execution_count": null,
      "outputs": [
        {
          "output_type": "execute_result",
          "data": {
            "text/plain": [
              "                                                  评论内容  相同文案出现频率\n",
              "29   不要再狡辩了📢将《光亮》里🔥出圈的京剧戏腔改名《定风波》，模糊原唱并营销是越剧选段的是你，引...        22\n",
              "210  这两年您在其他平台多次演唱百万收藏大爆曲《光亮》戏腔不标明原曲甚至擅自改名成《定风波》，很难...        21\n",
              "233  陈女士营销宣传将《光亮》里🔥出圈的京剧戏腔改名《定风波》，利用这个模糊原唱营销是越剧选段，企...        20\n",
              "205  这两年您在其他平台多次演唱百万收藏大爆曲《光亮》且擅自改名成《定风波》误导大众以为是传统越剧...        18\n",
              "208  这两年您在其他平台多次演唱百万收藏大爆曲《光亮》戏腔不标明原曲甚至擅自改名成《定风波》，很难...        13\n",
              "..                                                 ...       ...\n",
              "86                        君，咱能做的也都做了，剩下的都别往心里去，你已经很优秀了         1\n",
              "87                               听我一句劝，陈丽君粉丝现在最重要的是小升初         1\n",
              "88   和主办方确认过版权问题???确认在哪呢我请问，就不能不唱吗？这么喜欢定风波这词，自己哼一段读...         1\n",
              "89                                            哈哈哈哈哈偷歌贼         1\n",
              "242                             👫是siwan的，素质是√吃的，学历是中专的         1\n",
              "\n",
              "[243 rows x 2 columns]"
            ],
            "text/html": [
              "\n",
              "  <div id=\"df-5e12ae06-19bd-407b-93f5-044dd24ab8cc\" class=\"colab-df-container\">\n",
              "    <div>\n",
              "<style scoped>\n",
              "    .dataframe tbody tr th:only-of-type {\n",
              "        vertical-align: middle;\n",
              "    }\n",
              "\n",
              "    .dataframe tbody tr th {\n",
              "        vertical-align: top;\n",
              "    }\n",
              "\n",
              "    .dataframe thead th {\n",
              "        text-align: right;\n",
              "    }\n",
              "</style>\n",
              "<table border=\"1\" class=\"dataframe\">\n",
              "  <thead>\n",
              "    <tr style=\"text-align: right;\">\n",
              "      <th></th>\n",
              "      <th>评论内容</th>\n",
              "      <th>相同文案出现频率</th>\n",
              "    </tr>\n",
              "  </thead>\n",
              "  <tbody>\n",
              "    <tr>\n",
              "      <th>29</th>\n",
              "      <td>不要再狡辩了📢将《光亮》里🔥出圈的京剧戏腔改名《定风波》，模糊原唱并营销是越剧选段的是你，引...</td>\n",
              "      <td>22</td>\n",
              "    </tr>\n",
              "    <tr>\n",
              "      <th>210</th>\n",
              "      <td>这两年您在其他平台多次演唱百万收藏大爆曲《光亮》戏腔不标明原曲甚至擅自改名成《定风波》，很难...</td>\n",
              "      <td>21</td>\n",
              "    </tr>\n",
              "    <tr>\n",
              "      <th>233</th>\n",
              "      <td>陈女士营销宣传将《光亮》里🔥出圈的京剧戏腔改名《定风波》，利用这个模糊原唱营销是越剧选段，企...</td>\n",
              "      <td>20</td>\n",
              "    </tr>\n",
              "    <tr>\n",
              "      <th>205</th>\n",
              "      <td>这两年您在其他平台多次演唱百万收藏大爆曲《光亮》且擅自改名成《定风波》误导大众以为是传统越剧...</td>\n",
              "      <td>18</td>\n",
              "    </tr>\n",
              "    <tr>\n",
              "      <th>208</th>\n",
              "      <td>这两年您在其他平台多次演唱百万收藏大爆曲《光亮》戏腔不标明原曲甚至擅自改名成《定风波》，很难...</td>\n",
              "      <td>13</td>\n",
              "    </tr>\n",
              "    <tr>\n",
              "      <th>...</th>\n",
              "      <td>...</td>\n",
              "      <td>...</td>\n",
              "    </tr>\n",
              "    <tr>\n",
              "      <th>86</th>\n",
              "      <td>君，咱能做的也都做了，剩下的都别往心里去，你已经很优秀了</td>\n",
              "      <td>1</td>\n",
              "    </tr>\n",
              "    <tr>\n",
              "      <th>87</th>\n",
              "      <td>听我一句劝，陈丽君粉丝现在最重要的是小升初</td>\n",
              "      <td>1</td>\n",
              "    </tr>\n",
              "    <tr>\n",
              "      <th>88</th>\n",
              "      <td>和主办方确认过版权问题???确认在哪呢我请问，就不能不唱吗？这么喜欢定风波这词，自己哼一段读...</td>\n",
              "      <td>1</td>\n",
              "    </tr>\n",
              "    <tr>\n",
              "      <th>89</th>\n",
              "      <td>哈哈哈哈哈偷歌贼</td>\n",
              "      <td>1</td>\n",
              "    </tr>\n",
              "    <tr>\n",
              "      <th>242</th>\n",
              "      <td>👫是siwan的，素质是√吃的，学历是中专的</td>\n",
              "      <td>1</td>\n",
              "    </tr>\n",
              "  </tbody>\n",
              "</table>\n",
              "<p>243 rows × 2 columns</p>\n",
              "</div>\n",
              "    <div class=\"colab-df-buttons\">\n",
              "\n",
              "  <div class=\"colab-df-container\">\n",
              "    <button class=\"colab-df-convert\" onclick=\"convertToInteractive('df-5e12ae06-19bd-407b-93f5-044dd24ab8cc')\"\n",
              "            title=\"Convert this dataframe to an interactive table.\"\n",
              "            style=\"display:none;\">\n",
              "\n",
              "  <svg xmlns=\"http://www.w3.org/2000/svg\" height=\"24px\" viewBox=\"0 -960 960 960\">\n",
              "    <path d=\"M120-120v-720h720v720H120Zm60-500h600v-160H180v160Zm220 220h160v-160H400v160Zm0 220h160v-160H400v160ZM180-400h160v-160H180v160Zm440 0h160v-160H620v160ZM180-180h160v-160H180v160Zm440 0h160v-160H620v160Z\"/>\n",
              "  </svg>\n",
              "    </button>\n",
              "\n",
              "  <style>\n",
              "    .colab-df-container {\n",
              "      display:flex;\n",
              "      gap: 12px;\n",
              "    }\n",
              "\n",
              "    .colab-df-convert {\n",
              "      background-color: #E8F0FE;\n",
              "      border: none;\n",
              "      border-radius: 50%;\n",
              "      cursor: pointer;\n",
              "      display: none;\n",
              "      fill: #1967D2;\n",
              "      height: 32px;\n",
              "      padding: 0 0 0 0;\n",
              "      width: 32px;\n",
              "    }\n",
              "\n",
              "    .colab-df-convert:hover {\n",
              "      background-color: #E2EBFA;\n",
              "      box-shadow: 0px 1px 2px rgba(60, 64, 67, 0.3), 0px 1px 3px 1px rgba(60, 64, 67, 0.15);\n",
              "      fill: #174EA6;\n",
              "    }\n",
              "\n",
              "    .colab-df-buttons div {\n",
              "      margin-bottom: 4px;\n",
              "    }\n",
              "\n",
              "    [theme=dark] .colab-df-convert {\n",
              "      background-color: #3B4455;\n",
              "      fill: #D2E3FC;\n",
              "    }\n",
              "\n",
              "    [theme=dark] .colab-df-convert:hover {\n",
              "      background-color: #434B5C;\n",
              "      box-shadow: 0px 1px 3px 1px rgba(0, 0, 0, 0.15);\n",
              "      filter: drop-shadow(0px 1px 2px rgba(0, 0, 0, 0.3));\n",
              "      fill: #FFFFFF;\n",
              "    }\n",
              "  </style>\n",
              "\n",
              "    <script>\n",
              "      const buttonEl =\n",
              "        document.querySelector('#df-5e12ae06-19bd-407b-93f5-044dd24ab8cc button.colab-df-convert');\n",
              "      buttonEl.style.display =\n",
              "        google.colab.kernel.accessAllowed ? 'block' : 'none';\n",
              "\n",
              "      async function convertToInteractive(key) {\n",
              "        const element = document.querySelector('#df-5e12ae06-19bd-407b-93f5-044dd24ab8cc');\n",
              "        const dataTable =\n",
              "          await google.colab.kernel.invokeFunction('convertToInteractive',\n",
              "                                                    [key], {});\n",
              "        if (!dataTable) return;\n",
              "\n",
              "        const docLinkHtml = 'Like what you see? Visit the ' +\n",
              "          '<a target=\"_blank\" href=https://colab.research.google.com/notebooks/data_table.ipynb>data table notebook</a>'\n",
              "          + ' to learn more about interactive tables.';\n",
              "        element.innerHTML = '';\n",
              "        dataTable['output_type'] = 'display_data';\n",
              "        await google.colab.output.renderOutput(dataTable, element);\n",
              "        const docLink = document.createElement('div');\n",
              "        docLink.innerHTML = docLinkHtml;\n",
              "        element.appendChild(docLink);\n",
              "      }\n",
              "    </script>\n",
              "  </div>\n",
              "\n",
              "\n",
              "<div id=\"df-d97342f8-725a-43d6-b6b2-e3a64a7f7e81\">\n",
              "  <button class=\"colab-df-quickchart\" onclick=\"quickchart('df-d97342f8-725a-43d6-b6b2-e3a64a7f7e81')\"\n",
              "            title=\"Suggest charts\"\n",
              "            style=\"display:none;\">\n",
              "\n",
              "<svg xmlns=\"http://www.w3.org/2000/svg\" height=\"24px\"viewBox=\"0 0 24 24\"\n",
              "     width=\"24px\">\n",
              "    <g>\n",
              "        <path d=\"M19 3H5c-1.1 0-2 .9-2 2v14c0 1.1.9 2 2 2h14c1.1 0 2-.9 2-2V5c0-1.1-.9-2-2-2zM9 17H7v-7h2v7zm4 0h-2V7h2v10zm4 0h-2v-4h2v4z\"/>\n",
              "    </g>\n",
              "</svg>\n",
              "  </button>\n",
              "\n",
              "<style>\n",
              "  .colab-df-quickchart {\n",
              "      --bg-color: #E8F0FE;\n",
              "      --fill-color: #1967D2;\n",
              "      --hover-bg-color: #E2EBFA;\n",
              "      --hover-fill-color: #174EA6;\n",
              "      --disabled-fill-color: #AAA;\n",
              "      --disabled-bg-color: #DDD;\n",
              "  }\n",
              "\n",
              "  [theme=dark] .colab-df-quickchart {\n",
              "      --bg-color: #3B4455;\n",
              "      --fill-color: #D2E3FC;\n",
              "      --hover-bg-color: #434B5C;\n",
              "      --hover-fill-color: #FFFFFF;\n",
              "      --disabled-bg-color: #3B4455;\n",
              "      --disabled-fill-color: #666;\n",
              "  }\n",
              "\n",
              "  .colab-df-quickchart {\n",
              "    background-color: var(--bg-color);\n",
              "    border: none;\n",
              "    border-radius: 50%;\n",
              "    cursor: pointer;\n",
              "    display: none;\n",
              "    fill: var(--fill-color);\n",
              "    height: 32px;\n",
              "    padding: 0;\n",
              "    width: 32px;\n",
              "  }\n",
              "\n",
              "  .colab-df-quickchart:hover {\n",
              "    background-color: var(--hover-bg-color);\n",
              "    box-shadow: 0 1px 2px rgba(60, 64, 67, 0.3), 0 1px 3px 1px rgba(60, 64, 67, 0.15);\n",
              "    fill: var(--button-hover-fill-color);\n",
              "  }\n",
              "\n",
              "  .colab-df-quickchart-complete:disabled,\n",
              "  .colab-df-quickchart-complete:disabled:hover {\n",
              "    background-color: var(--disabled-bg-color);\n",
              "    fill: var(--disabled-fill-color);\n",
              "    box-shadow: none;\n",
              "  }\n",
              "\n",
              "  .colab-df-spinner {\n",
              "    border: 2px solid var(--fill-color);\n",
              "    border-color: transparent;\n",
              "    border-bottom-color: var(--fill-color);\n",
              "    animation:\n",
              "      spin 1s steps(1) infinite;\n",
              "  }\n",
              "\n",
              "  @keyframes spin {\n",
              "    0% {\n",
              "      border-color: transparent;\n",
              "      border-bottom-color: var(--fill-color);\n",
              "      border-left-color: var(--fill-color);\n",
              "    }\n",
              "    20% {\n",
              "      border-color: transparent;\n",
              "      border-left-color: var(--fill-color);\n",
              "      border-top-color: var(--fill-color);\n",
              "    }\n",
              "    30% {\n",
              "      border-color: transparent;\n",
              "      border-left-color: var(--fill-color);\n",
              "      border-top-color: var(--fill-color);\n",
              "      border-right-color: var(--fill-color);\n",
              "    }\n",
              "    40% {\n",
              "      border-color: transparent;\n",
              "      border-right-color: var(--fill-color);\n",
              "      border-top-color: var(--fill-color);\n",
              "    }\n",
              "    60% {\n",
              "      border-color: transparent;\n",
              "      border-right-color: var(--fill-color);\n",
              "    }\n",
              "    80% {\n",
              "      border-color: transparent;\n",
              "      border-right-color: var(--fill-color);\n",
              "      border-bottom-color: var(--fill-color);\n",
              "    }\n",
              "    90% {\n",
              "      border-color: transparent;\n",
              "      border-bottom-color: var(--fill-color);\n",
              "    }\n",
              "  }\n",
              "</style>\n",
              "\n",
              "  <script>\n",
              "    async function quickchart(key) {\n",
              "      const quickchartButtonEl =\n",
              "        document.querySelector('#' + key + ' button');\n",
              "      quickchartButtonEl.disabled = true;  // To prevent multiple clicks.\n",
              "      quickchartButtonEl.classList.add('colab-df-spinner');\n",
              "      try {\n",
              "        const charts = await google.colab.kernel.invokeFunction(\n",
              "            'suggestCharts', [key], {});\n",
              "      } catch (error) {\n",
              "        console.error('Error during call to suggestCharts:', error);\n",
              "      }\n",
              "      quickchartButtonEl.classList.remove('colab-df-spinner');\n",
              "      quickchartButtonEl.classList.add('colab-df-quickchart-complete');\n",
              "    }\n",
              "    (() => {\n",
              "      let quickchartButtonEl =\n",
              "        document.querySelector('#df-d97342f8-725a-43d6-b6b2-e3a64a7f7e81 button');\n",
              "      quickchartButtonEl.style.display =\n",
              "        google.colab.kernel.accessAllowed ? 'block' : 'none';\n",
              "    })();\n",
              "  </script>\n",
              "</div>\n",
              "\n",
              "    </div>\n",
              "  </div>\n"
            ],
            "application/vnd.google.colaboratory.intrinsic+json": {
              "type": "dataframe",
              "summary": "{\n  \"name\": \"\",\n  \"rows\": 243,\n  \"fields\": [\n    {\n      \"column\": \"\\u8bc4\\u8bba\\u5185\\u5bb9\",\n      \"properties\": {\n        \"dtype\": \"string\",\n        \"num_unique_values\": 243,\n        \"samples\": [\n          \"\\u7528\\u4e86\\u4e24\\u5e74\\u4e86\\uff0c\\u73b0\\u5728\\u624d\\u8bf4\\u77e5\\u9053\\u7248\\u6743\\u662f\\u8c01\\u7684\\uff1f\\uff1f\\uff1f\\u90fd\\u662f\\u6587\\u827a\\u5de5\\u4f5c\\u8005\\uff0c\\u4f60\\u8fd9\\u4e48\\u5e72\\u539a\\u9053\\u5730\\u9053\\u561b\\uff1f\\u4e4b\\u524d\\u5077\\u6b4c\\u5077\\u7684\\u4e0d\\u591f\\u706b\\u662f\\u4e0d\\u662f\\u8fd8\\u5acc\\u4e0d\\u51fa\\u6548\\u679c\\u5462\\uff1f\\u4e0a\\u592e\\u89c6\\u4e86\\u706b\\u4e86\\u53d1\\u73b0\\u5c45\\u7136\\u6709\\u4eba\\u5728\\u610f\\u8fd9\\u4e2a\\uff0c\\u8fd8\\u5f97\\u534a\\u591c\\u51fa\\u6765\\u201c\\u9053\\u6b49\\u201d\\u771f\\u662f\\u96be\\u4e3a\\u4f60\\u4e86\\u3002\\u3002\\u3002\\u59d4\\u5c48\\u6b7b\\u4e86\\u662f\\u5427\\uff1f\",\n          \"\\u4f18\\u79c0\\u7684\\u6b4c\\u66f2\\u6b22\\u8fce\\u4ed6\\u4eba\\u7684\\u7ffb\\u5531\\uff0c\\u53ea\\u662f\\u4f5c\\u4e3a\\u6587\\u827a\\u5de5\\u4f5c\\u8005\\u5fc5\\u5b9a\\u662f\\u8981\\u6709\\u7248\\u6743\\u610f\\u8bc6\\u7684\\uff0c\\u8fd9\\u662f\\u521b\\u4f5c\\u8005\\u7684\\u5fc3\\u8840\\uff0c\\u5728\\u8fc7\\u53bb\\u7684\\u4e24\\u5e74\\u91cc\\u591a\\u6b21\\u7ffb\\u5531\\u300a\\u5149\\u4eae\\u300b\\u5374\\u90fd\\u6ca1\\u6709\\u6807\\u6ce8\\u539f\\u66f2\\u6216\\u8005\\u8bcd\\u66f2\\u4f5c\\u8005\\uff0c\\u6709\\u5fc5\\u8981\\u63d0\\u9ad8\\u76f8\\u5173\\u610f\\u8bc6\\u3002\",\n          \"\\u4f60\\u7684\\u5c39\\u6d3e\\u5531\\u8154\\u6211\\u4f5c\\u4e3a\\u620f\\u8ff7\\u662f\\u4e0d\\u8ba4\\u53ef\\u7684\\uff0c\\u5dee\\u592a\\u591a\\u3002\\u7cca\\u5f04\\u7cca\\u5f04\\u90a3\\u4e9b\\u5916\\u884c\\u5dee\\u4e0d\\u591a\\u3002\"\n        ],\n        \"semantic_type\": \"\",\n        \"description\": \"\"\n      }\n    },\n    {\n      \"column\": \"\\u76f8\\u540c\\u6587\\u6848\\u51fa\\u73b0\\u9891\\u7387\",\n      \"properties\": {\n        \"dtype\": \"number\",\n        \"std\": 2,\n        \"min\": 1,\n        \"max\": 22,\n        \"num_unique_values\": 9,\n        \"samples\": [\n          2,\n          21,\n          4\n        ],\n        \"semantic_type\": \"\",\n        \"description\": \"\"\n      }\n    }\n  ]\n}"
            }
          },
          "metadata": {},
          "execution_count": 30
        }
      ]
    },
    {
      "cell_type": "markdown",
      "source": [
        "发现相似文案，集中在频率最高的几条， 使用tf-idf算法取相似度并将相似文案做统合，设定similarity score 为0.6（可调整）\n"
      ],
      "metadata": {
        "id": "gztzR-JAQGZJ"
      }
    },
    {
      "cell_type": "code",
      "source": [
        "\n",
        "from sklearn.feature_extraction.text import TfidfVectorizer\n",
        "from sklearn.metrics.pairwise import cosine_similarity\n",
        "# Calculate TF-IDF vectors\n",
        "tfidf_vectorizer = TfidfVectorizer().fit_transform(filtered_df['评论内容'])\n",
        "tfidf_matrix = tfidf_vectorizer.toarray()\n",
        "\n",
        "# Calculate cosine similarity matrix\n",
        "cosine_sim = cosine_similarity(tfidf_matrix)\n",
        "\n",
        "# Threshold for similarity\n",
        "threshold = 0.6\n",
        "\n",
        "# Group similar texts and standardize them\n",
        "def group_similar_texts(df, col, cosine_sim, threshold):\n",
        "    # Create a list to store the group id for each text\n",
        "    groups = [-1] * len(df)\n",
        "    group_id = 0\n",
        "\n",
        "    for i in range(len(df)):\n",
        "        if groups[i] == -1:  # If the text is not yet assigned to a group\n",
        "            groups[i] = group_id\n",
        "            for j in range(i + 1, len(df)):\n",
        "                if cosine_sim[i][j] > threshold:\n",
        "                    groups[j] = group_id\n",
        "            group_id += 1\n",
        "\n",
        "    # Assign the standardized text to each group\n",
        "    standardized_texts = {}\n",
        "    for group in set(groups):\n",
        "        group_indices = [i for i, g in enumerate(groups) if g == group]\n",
        "        # Use the first text in the group as the standardized text\n",
        "        standardized_text = df[col].iloc[group_indices[0]]\n",
        "        standardized_texts[group] = standardized_text\n",
        "\n",
        "    # Replace text in the DataFrame\n",
        "    df['standardized_content'] = [standardized_texts[groups[i]] for i in range(len(df))]\n",
        "    return df\n",
        "\n",
        "# Apply the function\n",
        "filtered_df = group_similar_texts(filtered_df,'评论内容', cosine_sim, threshold)\\\n",
        ".rename(columns={'standardized_content':'评论内容_std'})"
      ],
      "metadata": {
        "id": "NnHhu6oTQEJm"
      },
      "execution_count": null,
      "outputs": []
    },
    {
      "cell_type": "markdown",
      "source": [
        "将统合后的文案再次进行频率统计，并由高到低排列，可以发现top 4 文案可能存在刷版现象。"
      ],
      "metadata": {
        "id": "IP8_Kvgscm_H"
      }
    },
    {
      "cell_type": "code",
      "source": [
        "df_freq = filtered_df.groupby('评论内容_std')\\\n",
        ".agg(相同文案出现频率 = ('评论者姓名','count'),\n",
        "     总获赞数 = ('like_cnt','sum'),\n",
        "     平均获赞数 = ('like_cnt',lambda x: round(x.mean(), 0)))\\\n",
        ".reset_index().sort_values('相同文案出现频率',ascending=False)\n",
        "\n",
        "df_freq"
      ],
      "metadata": {
        "colab": {
          "base_uri": "https://localhost:8080/",
          "height": 545
        },
        "id": "y4TJAShUXJsR",
        "outputId": "f8fad202-54ef-44b6-f639-08f800d43752"
      },
      "execution_count": null,
      "outputs": [
        {
          "output_type": "execute_result",
          "data": {
            "text/plain": [
              "                                              评论内容_std  相同文案出现频率   总获赞数  平均获赞数\n",
              "185  这两年您在其他平台多次演唱百万收藏大爆曲《光亮》戏腔不标明原曲甚至擅自改名成《定风波》，很难...        70  18632  266.0\n",
              "199  陈女士营销宣传将《光亮》里🔥出圈的京剧戏腔改名《定风波》，利用这个模糊原唱营销是越剧选段，企...        26   3261  125.0\n",
              "19   不要再狡辩了📢将《光亮》里🔥出圈的京剧戏腔改名《定风波》，模糊原唱并营销是越剧选段的是你，引...        26   2863  110.0\n",
              "164  终于等来了迟来两年的道歉文艺工作者的底线是尊重原创和版权，引导粉丝向真善美，而不是假恶丑既然...         7   4982  712.0\n",
              "105  总结事件脉络:【陈丽君营销宣传将《光亮》里🔥出圈的京剧戏腔改名《定风波》，利用这个模糊原唱营...         3    249   83.0\n",
              "..                                                 ...       ...    ...    ...\n",
              "73                        君，咱能做的也都做了，剩下的都别往心里去，你已经很优秀了         1      1    1.0\n",
              "74                               听我一句劝，陈丽君粉丝现在最重要的是小升初         1      0    0.0\n",
              "75   和主办方确认过版权问题???确认在哪呢我请问，就不能不唱吗？这么喜欢定风波这词，自己哼一段读...         1      1    1.0\n",
              "76                                            哈哈哈哈哈偷歌贼         1      0    0.0\n",
              "206                             👫是siwan的，素质是√吃的，学历是中专的         1      0    0.0\n",
              "\n",
              "[207 rows x 4 columns]"
            ],
            "text/html": [
              "\n",
              "  <div id=\"df-7d38be74-7096-4c04-b3fc-e410267ccc7a\" class=\"colab-df-container\">\n",
              "    <div>\n",
              "<style scoped>\n",
              "    .dataframe tbody tr th:only-of-type {\n",
              "        vertical-align: middle;\n",
              "    }\n",
              "\n",
              "    .dataframe tbody tr th {\n",
              "        vertical-align: top;\n",
              "    }\n",
              "\n",
              "    .dataframe thead th {\n",
              "        text-align: right;\n",
              "    }\n",
              "</style>\n",
              "<table border=\"1\" class=\"dataframe\">\n",
              "  <thead>\n",
              "    <tr style=\"text-align: right;\">\n",
              "      <th></th>\n",
              "      <th>评论内容_std</th>\n",
              "      <th>相同文案出现频率</th>\n",
              "      <th>总获赞数</th>\n",
              "      <th>平均获赞数</th>\n",
              "    </tr>\n",
              "  </thead>\n",
              "  <tbody>\n",
              "    <tr>\n",
              "      <th>185</th>\n",
              "      <td>这两年您在其他平台多次演唱百万收藏大爆曲《光亮》戏腔不标明原曲甚至擅自改名成《定风波》，很难...</td>\n",
              "      <td>70</td>\n",
              "      <td>18632</td>\n",
              "      <td>266.0</td>\n",
              "    </tr>\n",
              "    <tr>\n",
              "      <th>199</th>\n",
              "      <td>陈女士营销宣传将《光亮》里🔥出圈的京剧戏腔改名《定风波》，利用这个模糊原唱营销是越剧选段，企...</td>\n",
              "      <td>26</td>\n",
              "      <td>3261</td>\n",
              "      <td>125.0</td>\n",
              "    </tr>\n",
              "    <tr>\n",
              "      <th>19</th>\n",
              "      <td>不要再狡辩了📢将《光亮》里🔥出圈的京剧戏腔改名《定风波》，模糊原唱并营销是越剧选段的是你，引...</td>\n",
              "      <td>26</td>\n",
              "      <td>2863</td>\n",
              "      <td>110.0</td>\n",
              "    </tr>\n",
              "    <tr>\n",
              "      <th>164</th>\n",
              "      <td>终于等来了迟来两年的道歉文艺工作者的底线是尊重原创和版权，引导粉丝向真善美，而不是假恶丑既然...</td>\n",
              "      <td>7</td>\n",
              "      <td>4982</td>\n",
              "      <td>712.0</td>\n",
              "    </tr>\n",
              "    <tr>\n",
              "      <th>105</th>\n",
              "      <td>总结事件脉络:【陈丽君营销宣传将《光亮》里🔥出圈的京剧戏腔改名《定风波》，利用这个模糊原唱营...</td>\n",
              "      <td>3</td>\n",
              "      <td>249</td>\n",
              "      <td>83.0</td>\n",
              "    </tr>\n",
              "    <tr>\n",
              "      <th>...</th>\n",
              "      <td>...</td>\n",
              "      <td>...</td>\n",
              "      <td>...</td>\n",
              "      <td>...</td>\n",
              "    </tr>\n",
              "    <tr>\n",
              "      <th>73</th>\n",
              "      <td>君，咱能做的也都做了，剩下的都别往心里去，你已经很优秀了</td>\n",
              "      <td>1</td>\n",
              "      <td>1</td>\n",
              "      <td>1.0</td>\n",
              "    </tr>\n",
              "    <tr>\n",
              "      <th>74</th>\n",
              "      <td>听我一句劝，陈丽君粉丝现在最重要的是小升初</td>\n",
              "      <td>1</td>\n",
              "      <td>0</td>\n",
              "      <td>0.0</td>\n",
              "    </tr>\n",
              "    <tr>\n",
              "      <th>75</th>\n",
              "      <td>和主办方确认过版权问题???确认在哪呢我请问，就不能不唱吗？这么喜欢定风波这词，自己哼一段读...</td>\n",
              "      <td>1</td>\n",
              "      <td>1</td>\n",
              "      <td>1.0</td>\n",
              "    </tr>\n",
              "    <tr>\n",
              "      <th>76</th>\n",
              "      <td>哈哈哈哈哈偷歌贼</td>\n",
              "      <td>1</td>\n",
              "      <td>0</td>\n",
              "      <td>0.0</td>\n",
              "    </tr>\n",
              "    <tr>\n",
              "      <th>206</th>\n",
              "      <td>👫是siwan的，素质是√吃的，学历是中专的</td>\n",
              "      <td>1</td>\n",
              "      <td>0</td>\n",
              "      <td>0.0</td>\n",
              "    </tr>\n",
              "  </tbody>\n",
              "</table>\n",
              "<p>207 rows × 4 columns</p>\n",
              "</div>\n",
              "    <div class=\"colab-df-buttons\">\n",
              "\n",
              "  <div class=\"colab-df-container\">\n",
              "    <button class=\"colab-df-convert\" onclick=\"convertToInteractive('df-7d38be74-7096-4c04-b3fc-e410267ccc7a')\"\n",
              "            title=\"Convert this dataframe to an interactive table.\"\n",
              "            style=\"display:none;\">\n",
              "\n",
              "  <svg xmlns=\"http://www.w3.org/2000/svg\" height=\"24px\" viewBox=\"0 -960 960 960\">\n",
              "    <path d=\"M120-120v-720h720v720H120Zm60-500h600v-160H180v160Zm220 220h160v-160H400v160Zm0 220h160v-160H400v160ZM180-400h160v-160H180v160Zm440 0h160v-160H620v160ZM180-180h160v-160H180v160Zm440 0h160v-160H620v160Z\"/>\n",
              "  </svg>\n",
              "    </button>\n",
              "\n",
              "  <style>\n",
              "    .colab-df-container {\n",
              "      display:flex;\n",
              "      gap: 12px;\n",
              "    }\n",
              "\n",
              "    .colab-df-convert {\n",
              "      background-color: #E8F0FE;\n",
              "      border: none;\n",
              "      border-radius: 50%;\n",
              "      cursor: pointer;\n",
              "      display: none;\n",
              "      fill: #1967D2;\n",
              "      height: 32px;\n",
              "      padding: 0 0 0 0;\n",
              "      width: 32px;\n",
              "    }\n",
              "\n",
              "    .colab-df-convert:hover {\n",
              "      background-color: #E2EBFA;\n",
              "      box-shadow: 0px 1px 2px rgba(60, 64, 67, 0.3), 0px 1px 3px 1px rgba(60, 64, 67, 0.15);\n",
              "      fill: #174EA6;\n",
              "    }\n",
              "\n",
              "    .colab-df-buttons div {\n",
              "      margin-bottom: 4px;\n",
              "    }\n",
              "\n",
              "    [theme=dark] .colab-df-convert {\n",
              "      background-color: #3B4455;\n",
              "      fill: #D2E3FC;\n",
              "    }\n",
              "\n",
              "    [theme=dark] .colab-df-convert:hover {\n",
              "      background-color: #434B5C;\n",
              "      box-shadow: 0px 1px 3px 1px rgba(0, 0, 0, 0.15);\n",
              "      filter: drop-shadow(0px 1px 2px rgba(0, 0, 0, 0.3));\n",
              "      fill: #FFFFFF;\n",
              "    }\n",
              "  </style>\n",
              "\n",
              "    <script>\n",
              "      const buttonEl =\n",
              "        document.querySelector('#df-7d38be74-7096-4c04-b3fc-e410267ccc7a button.colab-df-convert');\n",
              "      buttonEl.style.display =\n",
              "        google.colab.kernel.accessAllowed ? 'block' : 'none';\n",
              "\n",
              "      async function convertToInteractive(key) {\n",
              "        const element = document.querySelector('#df-7d38be74-7096-4c04-b3fc-e410267ccc7a');\n",
              "        const dataTable =\n",
              "          await google.colab.kernel.invokeFunction('convertToInteractive',\n",
              "                                                    [key], {});\n",
              "        if (!dataTable) return;\n",
              "\n",
              "        const docLinkHtml = 'Like what you see? Visit the ' +\n",
              "          '<a target=\"_blank\" href=https://colab.research.google.com/notebooks/data_table.ipynb>data table notebook</a>'\n",
              "          + ' to learn more about interactive tables.';\n",
              "        element.innerHTML = '';\n",
              "        dataTable['output_type'] = 'display_data';\n",
              "        await google.colab.output.renderOutput(dataTable, element);\n",
              "        const docLink = document.createElement('div');\n",
              "        docLink.innerHTML = docLinkHtml;\n",
              "        element.appendChild(docLink);\n",
              "      }\n",
              "    </script>\n",
              "  </div>\n",
              "\n",
              "\n",
              "<div id=\"df-2277dbad-b010-44fd-99fe-a026b438930e\">\n",
              "  <button class=\"colab-df-quickchart\" onclick=\"quickchart('df-2277dbad-b010-44fd-99fe-a026b438930e')\"\n",
              "            title=\"Suggest charts\"\n",
              "            style=\"display:none;\">\n",
              "\n",
              "<svg xmlns=\"http://www.w3.org/2000/svg\" height=\"24px\"viewBox=\"0 0 24 24\"\n",
              "     width=\"24px\">\n",
              "    <g>\n",
              "        <path d=\"M19 3H5c-1.1 0-2 .9-2 2v14c0 1.1.9 2 2 2h14c1.1 0 2-.9 2-2V5c0-1.1-.9-2-2-2zM9 17H7v-7h2v7zm4 0h-2V7h2v10zm4 0h-2v-4h2v4z\"/>\n",
              "    </g>\n",
              "</svg>\n",
              "  </button>\n",
              "\n",
              "<style>\n",
              "  .colab-df-quickchart {\n",
              "      --bg-color: #E8F0FE;\n",
              "      --fill-color: #1967D2;\n",
              "      --hover-bg-color: #E2EBFA;\n",
              "      --hover-fill-color: #174EA6;\n",
              "      --disabled-fill-color: #AAA;\n",
              "      --disabled-bg-color: #DDD;\n",
              "  }\n",
              "\n",
              "  [theme=dark] .colab-df-quickchart {\n",
              "      --bg-color: #3B4455;\n",
              "      --fill-color: #D2E3FC;\n",
              "      --hover-bg-color: #434B5C;\n",
              "      --hover-fill-color: #FFFFFF;\n",
              "      --disabled-bg-color: #3B4455;\n",
              "      --disabled-fill-color: #666;\n",
              "  }\n",
              "\n",
              "  .colab-df-quickchart {\n",
              "    background-color: var(--bg-color);\n",
              "    border: none;\n",
              "    border-radius: 50%;\n",
              "    cursor: pointer;\n",
              "    display: none;\n",
              "    fill: var(--fill-color);\n",
              "    height: 32px;\n",
              "    padding: 0;\n",
              "    width: 32px;\n",
              "  }\n",
              "\n",
              "  .colab-df-quickchart:hover {\n",
              "    background-color: var(--hover-bg-color);\n",
              "    box-shadow: 0 1px 2px rgba(60, 64, 67, 0.3), 0 1px 3px 1px rgba(60, 64, 67, 0.15);\n",
              "    fill: var(--button-hover-fill-color);\n",
              "  }\n",
              "\n",
              "  .colab-df-quickchart-complete:disabled,\n",
              "  .colab-df-quickchart-complete:disabled:hover {\n",
              "    background-color: var(--disabled-bg-color);\n",
              "    fill: var(--disabled-fill-color);\n",
              "    box-shadow: none;\n",
              "  }\n",
              "\n",
              "  .colab-df-spinner {\n",
              "    border: 2px solid var(--fill-color);\n",
              "    border-color: transparent;\n",
              "    border-bottom-color: var(--fill-color);\n",
              "    animation:\n",
              "      spin 1s steps(1) infinite;\n",
              "  }\n",
              "\n",
              "  @keyframes spin {\n",
              "    0% {\n",
              "      border-color: transparent;\n",
              "      border-bottom-color: var(--fill-color);\n",
              "      border-left-color: var(--fill-color);\n",
              "    }\n",
              "    20% {\n",
              "      border-color: transparent;\n",
              "      border-left-color: var(--fill-color);\n",
              "      border-top-color: var(--fill-color);\n",
              "    }\n",
              "    30% {\n",
              "      border-color: transparent;\n",
              "      border-left-color: var(--fill-color);\n",
              "      border-top-color: var(--fill-color);\n",
              "      border-right-color: var(--fill-color);\n",
              "    }\n",
              "    40% {\n",
              "      border-color: transparent;\n",
              "      border-right-color: var(--fill-color);\n",
              "      border-top-color: var(--fill-color);\n",
              "    }\n",
              "    60% {\n",
              "      border-color: transparent;\n",
              "      border-right-color: var(--fill-color);\n",
              "    }\n",
              "    80% {\n",
              "      border-color: transparent;\n",
              "      border-right-color: var(--fill-color);\n",
              "      border-bottom-color: var(--fill-color);\n",
              "    }\n",
              "    90% {\n",
              "      border-color: transparent;\n",
              "      border-bottom-color: var(--fill-color);\n",
              "    }\n",
              "  }\n",
              "</style>\n",
              "\n",
              "  <script>\n",
              "    async function quickchart(key) {\n",
              "      const quickchartButtonEl =\n",
              "        document.querySelector('#' + key + ' button');\n",
              "      quickchartButtonEl.disabled = true;  // To prevent multiple clicks.\n",
              "      quickchartButtonEl.classList.add('colab-df-spinner');\n",
              "      try {\n",
              "        const charts = await google.colab.kernel.invokeFunction(\n",
              "            'suggestCharts', [key], {});\n",
              "      } catch (error) {\n",
              "        console.error('Error during call to suggestCharts:', error);\n",
              "      }\n",
              "      quickchartButtonEl.classList.remove('colab-df-spinner');\n",
              "      quickchartButtonEl.classList.add('colab-df-quickchart-complete');\n",
              "    }\n",
              "    (() => {\n",
              "      let quickchartButtonEl =\n",
              "        document.querySelector('#df-2277dbad-b010-44fd-99fe-a026b438930e button');\n",
              "      quickchartButtonEl.style.display =\n",
              "        google.colab.kernel.accessAllowed ? 'block' : 'none';\n",
              "    })();\n",
              "  </script>\n",
              "</div>\n",
              "\n",
              "  <div id=\"id_e4b07425-8105-4064-b681-5d85f57df8de\">\n",
              "    <style>\n",
              "      .colab-df-generate {\n",
              "        background-color: #E8F0FE;\n",
              "        border: none;\n",
              "        border-radius: 50%;\n",
              "        cursor: pointer;\n",
              "        display: none;\n",
              "        fill: #1967D2;\n",
              "        height: 32px;\n",
              "        padding: 0 0 0 0;\n",
              "        width: 32px;\n",
              "      }\n",
              "\n",
              "      .colab-df-generate:hover {\n",
              "        background-color: #E2EBFA;\n",
              "        box-shadow: 0px 1px 2px rgba(60, 64, 67, 0.3), 0px 1px 3px 1px rgba(60, 64, 67, 0.15);\n",
              "        fill: #174EA6;\n",
              "      }\n",
              "\n",
              "      [theme=dark] .colab-df-generate {\n",
              "        background-color: #3B4455;\n",
              "        fill: #D2E3FC;\n",
              "      }\n",
              "\n",
              "      [theme=dark] .colab-df-generate:hover {\n",
              "        background-color: #434B5C;\n",
              "        box-shadow: 0px 1px 3px 1px rgba(0, 0, 0, 0.15);\n",
              "        filter: drop-shadow(0px 1px 2px rgba(0, 0, 0, 0.3));\n",
              "        fill: #FFFFFF;\n",
              "      }\n",
              "    </style>\n",
              "    <button class=\"colab-df-generate\" onclick=\"generateWithVariable('df_freq')\"\n",
              "            title=\"Generate code using this dataframe.\"\n",
              "            style=\"display:none;\">\n",
              "\n",
              "  <svg xmlns=\"http://www.w3.org/2000/svg\" height=\"24px\"viewBox=\"0 0 24 24\"\n",
              "       width=\"24px\">\n",
              "    <path d=\"M7,19H8.4L18.45,9,17,7.55,7,17.6ZM5,21V16.75L18.45,3.32a2,2,0,0,1,2.83,0l1.4,1.43a1.91,1.91,0,0,1,.58,1.4,1.91,1.91,0,0,1-.58,1.4L9.25,21ZM18.45,9,17,7.55Zm-12,3A5.31,5.31,0,0,0,4.9,8.1,5.31,5.31,0,0,0,1,6.5,5.31,5.31,0,0,0,4.9,4.9,5.31,5.31,0,0,0,6.5,1,5.31,5.31,0,0,0,8.1,4.9,5.31,5.31,0,0,0,12,6.5,5.46,5.46,0,0,0,6.5,12Z\"/>\n",
              "  </svg>\n",
              "    </button>\n",
              "    <script>\n",
              "      (() => {\n",
              "      const buttonEl =\n",
              "        document.querySelector('#id_e4b07425-8105-4064-b681-5d85f57df8de button.colab-df-generate');\n",
              "      buttonEl.style.display =\n",
              "        google.colab.kernel.accessAllowed ? 'block' : 'none';\n",
              "\n",
              "      buttonEl.onclick = () => {\n",
              "        google.colab.notebook.generateWithVariable('df_freq');\n",
              "      }\n",
              "      })();\n",
              "    </script>\n",
              "  </div>\n",
              "\n",
              "    </div>\n",
              "  </div>\n"
            ],
            "application/vnd.google.colaboratory.intrinsic+json": {
              "type": "dataframe",
              "variable_name": "df_freq",
              "summary": "{\n  \"name\": \"df_freq\",\n  \"rows\": 207,\n  \"fields\": [\n    {\n      \"column\": \"\\u8bc4\\u8bba\\u5185\\u5bb9_std\",\n      \"properties\": {\n        \"dtype\": \"string\",\n        \"num_unique_values\": 207,\n        \"samples\": [\n          \"\\u592a\\u597d\\u542c\\u5566\",\n          \"\\u5c0f\\u59d0\\u59d0\\u4f60\\u8bdd\\u8981\\u8bf4\\u6e05\\u695a\\uff0c\\u4f60\\u4e4b\\u524d\\u5531\\u6211\\u4eec\\u5149\\u4eae\\u4e0d\\u4ec5\\u4e0d\\u6807\\u51fa\\u5904\\uff0c\\u8fd8\\u6539\\u4e86\\u6b4c\\u540d\\u8ba9\\u4f60\\u7c89\\u4e1d\\u4ee5\\u4e3a\\u662f\\u4f60\\u539f\\u5531\\u5230\\u5904\\u5ba3\\u4f20\\uff0c\\u751a\\u81f3\\u8dd1\\u5230\\u6211\\u4eec\\u5149\\u4eae\\u7684\\u5730\\u76d8\\u8bf4\\u6211\\u4eec\\u539f\\u5531\\u662f\\u7ffb\\u5531\\u6765\\u7740\\u3002\\u4e0d\\u8bf4\\u660e\\u767d\\u4ee5\\u4f60\\u7c89\\u4e1d\\u7684\\u89c6\\u529b\\u548c\\u9605\\u8bfb\\u7406\\u89e3\\u80fd\\u529b\\u5c31\\u53ea\\u770b\\u5f97\\u61c2\\u8fd9\\u6b21\\u786e\\u8ba4\\u8fc7\\u7248\\u6743\\u7684\\u90e8\\u5206\\uff0c\\u8fd8\\u89c9\\u5f97\\u4f60\\u51a4\\u6789\\u4e86\\u5462\\u3002\",\n          \"\\u9648\\u4e3d\\u541b\\u53c8\\u662f\\u6539\\u540d\\u53c8\\u662f\\u65e0\\u6807\\u6ce8\\u7ffb\\u5531\\u4e86\\u5468\\u8001\\u5e08\\u7684\\u5149\\u4eae\\u5df2\\u7ecf\\u6709\\u4e24\\u4e09\\u5e74\\u4e86\\uff0c\\u4eca\\u5929\\u3010\\u7ec8\\u4e8e\\u3011\\u957f\\u5634\\u627f\\u8ba4\\u6ed1\\u8f68\\u5356\\u8336\\u88c5\\u4e56\\u8bf4\\u8981\\u6539\\u8ba9\\u4f60\\u4eec\\u95ed\\u5634\\u522b\\u5435\\u4e86\\uff0c\\u4f60\\u4eec\\u731c\\u662f\\u4e3a\\u4ec0\\u4e48\\u5462\\uff1f\\u5fc3\\u91cc\\u6ca1\\u6570\\u5417\\u8fd8\\u5728\\u90a3\\u513f\\u53d1\\u75af\\ud83e\\udd17 \"\n        ],\n        \"semantic_type\": \"\",\n        \"description\": \"\"\n      }\n    },\n    {\n      \"column\": \"\\u76f8\\u540c\\u6587\\u6848\\u51fa\\u73b0\\u9891\\u7387\",\n      \"properties\": {\n        \"dtype\": \"number\",\n        \"std\": 5,\n        \"min\": 1,\n        \"max\": 70,\n        \"num_unique_values\": 6,\n        \"samples\": [\n          70,\n          26,\n          1\n        ],\n        \"semantic_type\": \"\",\n        \"description\": \"\"\n      }\n    },\n    {\n      \"column\": \"\\u603b\\u83b7\\u8d5e\\u6570\",\n      \"properties\": {\n        \"dtype\": \"number\",\n        \"std\": 1486,\n        \"min\": 0,\n        \"max\": 18632,\n        \"num_unique_values\": 60,\n        \"samples\": [\n          18632,\n          3233,\n          126\n        ],\n        \"semantic_type\": \"\",\n        \"description\": \"\"\n      }\n    },\n    {\n      \"column\": \"\\u5e73\\u5747\\u83b7\\u8d5e\\u6570\",\n      \"properties\": {\n        \"dtype\": \"number\",\n        \"std\": 510.6827129079074,\n        \"min\": 0.0,\n        \"max\": 4888.0,\n        \"num_unique_values\": 59,\n        \"samples\": [\n          266.0,\n          1078.0,\n          116.0\n        ],\n        \"semantic_type\": \"\",\n        \"description\": \"\"\n      }\n    }\n  ]\n}"
            }
          },
          "metadata": {},
          "execution_count": 32
        }
      ]
    },
    {
      "cell_type": "markdown",
      "source": [
        "#### 小结论：经过统合后前四高频率文案可能来自“屠评论区”计划\n"
      ],
      "metadata": {
        "id": "EeSKS4h4beoS"
      }
    },
    {
      "cell_type": "markdown",
      "source": [
        "让我们再来看看是谁在发这些定制文案~~"
      ],
      "metadata": {
        "id": "kG0w26-hcRWE"
      }
    },
    {
      "cell_type": "code",
      "source": [],
      "metadata": {
        "id": "h-YjL7kl8xtW"
      },
      "execution_count": null,
      "outputs": []
    },
    {
      "cell_type": "code",
      "source": [
        "df_comment.columns"
      ],
      "metadata": {
        "colab": {
          "base_uri": "https://localhost:8080/"
        },
        "id": "hnwZdsN98lJq",
        "outputId": "34ebedb3-db0b-48ba-9621-7526ec2ebc18"
      },
      "execution_count": null,
      "outputs": [
        {
          "output_type": "execute_result",
          "data": {
            "text/plain": [
              "Index(['评论id', '评论者id', '评论时间', '评论者姓名', '评论者IP归属地', '评论者粉籍', '评论内容',\n",
              "       'fan_cnt', 'like_cnt'],\n",
              "      dtype='object')"
            ]
          },
          "metadata": {},
          "execution_count": 33
        }
      ]
    },
    {
      "cell_type": "code",
      "source": [
        "df_user.columns"
      ],
      "metadata": {
        "colab": {
          "base_uri": "https://localhost:8080/"
        },
        "id": "C9hq7Cbt8D5i",
        "outputId": "775de586-160e-4024-9b79-f55cd2fce14f"
      },
      "execution_count": null,
      "outputs": [
        {
          "output_type": "execute_result",
          "data": {
            "text/plain": [
              "Index(['评论者id', '微博简介', '认证状态', '认证理由'], dtype='object')"
            ]
          },
          "metadata": {},
          "execution_count": 34
        }
      ]
    },
    {
      "cell_type": "markdown",
      "source": [
        "计算非粉丝评论中明确为周深大粉的数量"
      ],
      "metadata": {
        "id": "DwQmuN4_c9Uz"
      }
    },
    {
      "cell_type": "code",
      "source": [
        "filtered_df_new = filtered_df.merge(df_user,on='评论者id',how='left')\n",
        "zs_related_user_cnt_0 = filtered_df_new[((filtered_df_new['认证理由'].str.contains('周深|啾星')) |\\\n",
        "             (filtered_df_new['微博简介'].str.contains('周深|啾星')))]['评论者id'].nunique()\n",
        "print(f\"在非粉丝评论中共计 {zs_related_user_cnt_0} 名用户系周深大粉\")"
      ],
      "metadata": {
        "colab": {
          "base_uri": "https://localhost:8080/"
        },
        "id": "QUQsJjxx78lZ",
        "outputId": "bf812c55-ca2d-4e34-9110-49c4494b17ac"
      },
      "execution_count": null,
      "outputs": [
        {
          "output_type": "stream",
          "name": "stdout",
          "text": [
            "在非粉丝评论中共计 57 名用户系周深大粉\n"
          ]
        }
      ]
    },
    {
      "cell_type": "markdown",
      "source": [
        "计算使用定制文案的周深大粉的数量"
      ],
      "metadata": {
        "id": "_u5BRPKVdLVo"
      }
    },
    {
      "cell_type": "code",
      "source": [
        "## select top 4 most frequent comments\n",
        "freq_content_lst = list(df_freq['评论内容_std'][:4])"
      ],
      "metadata": {
        "id": "23JvAFL_bdoP"
      },
      "execution_count": null,
      "outputs": []
    },
    {
      "cell_type": "code",
      "source": [
        "# merge with user profile\n",
        "filtered_df_ = filtered_df[filtered_df['评论内容_std'].isin(freq_content_lst)].merge(df_user,on='评论者id',how='left')"
      ],
      "metadata": {
        "id": "0CtMkisxfuo0"
      },
      "execution_count": null,
      "outputs": []
    },
    {
      "cell_type": "code",
      "source": [
        "print(f\"总共 {len(filtered_df_)} 名用户发表定制文案\")"
      ],
      "metadata": {
        "colab": {
          "base_uri": "https://localhost:8080/"
        },
        "id": "O8NZskvcnPkc",
        "outputId": "f66c7296-4c32-4c65-c043-9beda43b5454"
      },
      "execution_count": null,
      "outputs": [
        {
          "output_type": "stream",
          "name": "stdout",
          "text": [
            "总共 129 名用户发表定制文案\n"
          ]
        }
      ]
    },
    {
      "cell_type": "markdown",
      "source": [
        "简单看看这些发表定制文案的用户是谁，选微博简介跟认证理由两列检视。\n"
      ],
      "metadata": {
        "id": "DCAzoePAoYSW"
      }
    },
    {
      "cell_type": "code",
      "source": [
        "filtered_df_[filtered_df_['认证状态']==True][['微博简介','认证理由']].drop_duplicates()"
      ],
      "metadata": {
        "colab": {
          "base_uri": "https://localhost:8080/",
          "height": 1000
        },
        "id": "e9BhVh-ifxiv",
        "outputId": "0f22e95a-a1e1-4fd2-b637-11a5e0599196"
      },
      "execution_count": null,
      "outputs": [
        {
          "output_type": "execute_result",
          "data": {
            "text/plain": [
              "                                                  微博简介  \\\n",
              "1      周深永远是我最可爱的宝宝！我以渺小爱你🥰！                   详细请看置顶哦   \n",
              "2                                  Zstation_forCharlie   \n",
              "4                                     反深代词神专驾到，糊坛通通闪开👋   \n",
              "5                                             我只在乎你 镇魂   \n",
              "6                             固执爱一朵小深花🍑 唯💞歌坛巨星脏脏包（淡网版）   \n",
              "13                                                  镇魂   \n",
              "14                                           事在人为 和光同尘   \n",
              "17                                小狗诗集 里面写的是怎么爱小猫🤲 是恶犬   \n",
              "18                         万物皆有裂痕，那是光照进来都地方，我燃这一生追光逐焰。   \n",
              "22                                         我唯一的猫猫神——周深   \n",
              "23                                              我以渺小爱你   \n",
              "25                                         摸摸小猫头 万事不用愁   \n",
              "28                                     虽识天下斑驳事，仍渡江湖垂恼人   \n",
              "29                                   喜欢周深，无墙头，话多且密小废米。   \n",
              "31                                     只做周深舔狗丨还想炸了整个世界   \n",
              "32                                    -Love  Yourself-   \n",
              "33                 我喜欢的歌手叫周深，他唱歌超级好听！！！❤ 备用号【温柔有牙齿进阶版】   \n",
              "36                                 镇魂｜谢谢周深😘我担是菩萨，我可不是😊   \n",
              "38           I'll be your lighthouse，I'l make it okay💐   \n",
              "41                                              我以渺小爱你   \n",
              "43                                       我学会痛 为你而痛 ‖镇魂   \n",
              "46                                               少管你爹我   \n",
              "58                                       【镇魂】温柔捧着爱的雏形。   \n",
              "60                                     只想给我的深崽唯一的爱(深唯)   \n",
              "63                                 周深是我的第一顺位  互联网著名深宝女   \n",
              "64                                          我的头像是天使头子！   \n",
              "66                           嫑直关，别单曲。。。 24年新高一，上学期间不在线   \n",
              "67                                  都曾呼吸狂奔，相爱支撑，命才成为生。   \n",
              "69                              谢谢小深！！！！ 😚 周深的唯一小狗😎【镇魂   \n",
              "71                                 无论我在哪里 你都在这里     镇魂   \n",
              "82   永远不要忘记自己有光，也永远不要忘记自己有梦，我所念所愿的星河皆是周深。 声明：少管我！少找...   \n",
              "86                                       🪄萌猫烤布蕾芝士全肯定啵特   \n",
              "92   追星乐子人，只喜欢周深，只关注周深，只在乎周深【有用的我会听没用的少管我【请大家和我沟通时尽...   \n",
              "101                                                      \n",
              "107                                  2024一定要和啾星多多见面！！！   \n",
              "113                                      爱上一只海妖&amp;深吹   \n",
              "115                                               唯爱周深   \n",
              "118                                               周深仙品   \n",
              "122                                邢小迪陛下爱吃东西~~~\\(^o^)/   \n",
              "\n",
              "                           认证理由  \n",
              "1                      微博原创视频博主  \n",
              "2                  超话粉丝大咖（周深超话）  \n",
              "4                  超话粉丝大咖（周深超话）  \n",
              "5                  超话粉丝大咖（周深超话）  \n",
              "6    娱乐博主 超话粉丝大咖（周深超话） 微博剪辑视频博主  \n",
              "13                 超话粉丝大咖（周深超话）  \n",
              "14        超话粉丝大咖（周深超话） 微博剪辑视频博主  \n",
              "17                 超话粉丝大咖（周深超话）  \n",
              "18        超话粉丝大咖（周深超话） 微博原创视频博主  \n",
              "22        超话粉丝大咖（周深超话） 微博原创视频博主  \n",
              "23        超话粉丝钻咖（周深超话） 微博原创视频博主  \n",
              "25        微博原创视频博主 超话粉丝大咖（周深超话）  \n",
              "28                 超话粉丝大咖（周深超话）  \n",
              "29                 超话粉丝大咖（周深超话）  \n",
              "31                 超话粉丝大咖（周深超话）  \n",
              "32                         音乐博主  \n",
              "33                     微博原创视频博主  \n",
              "36                 超话粉丝钻咖（周深超话）  \n",
              "38            娱乐博主 超话粉丝大咖（周深超话）  \n",
              "41                 超话粉丝大咖（周深超话）  \n",
              "43        超话粉丝钻咖（周深超话） 微博原创视频博主  \n",
              "46                 超话粉丝大咖（周深超话）  \n",
              "58                 超话粉丝大咖（周深超话）  \n",
              "60                 超话粉丝大咖（周深超话）  \n",
              "63   娱乐博主 超话粉丝大咖（周深超话） 微博原创视频博主  \n",
              "64                 超话粉丝大咖（周深超话）  \n",
              "66                  超话创作官（周深超话）  \n",
              "67                 超话粉丝大咖（周深超话）  \n",
              "69                 超话粉丝大咖（周深超话）  \n",
              "71                     微博原创视频博主  \n",
              "82                     微博剪辑视频博主  \n",
              "86                 超话粉丝大咖（周深超话）  \n",
              "92                 超话粉丝大咖（周深超话）  \n",
              "101                超话粉丝大咖（周深超话）  \n",
              "107                超话粉丝钻咖（周深超话）  \n",
              "113                 超话主持人（啾星超话）  \n",
              "115                超话粉丝大咖（周深超话）  \n",
              "118                超话粉丝钻咖（周深超话）  \n",
              "122                超话粉丝大咖（周深超话）  "
            ],
            "text/html": [
              "\n",
              "  <div id=\"df-9ed610e8-0c86-47b1-9c0a-93c63acca5d1\" class=\"colab-df-container\">\n",
              "    <div>\n",
              "<style scoped>\n",
              "    .dataframe tbody tr th:only-of-type {\n",
              "        vertical-align: middle;\n",
              "    }\n",
              "\n",
              "    .dataframe tbody tr th {\n",
              "        vertical-align: top;\n",
              "    }\n",
              "\n",
              "    .dataframe thead th {\n",
              "        text-align: right;\n",
              "    }\n",
              "</style>\n",
              "<table border=\"1\" class=\"dataframe\">\n",
              "  <thead>\n",
              "    <tr style=\"text-align: right;\">\n",
              "      <th></th>\n",
              "      <th>微博简介</th>\n",
              "      <th>认证理由</th>\n",
              "    </tr>\n",
              "  </thead>\n",
              "  <tbody>\n",
              "    <tr>\n",
              "      <th>1</th>\n",
              "      <td>周深永远是我最可爱的宝宝！我以渺小爱你🥰！                   详细请看置顶哦</td>\n",
              "      <td>微博原创视频博主</td>\n",
              "    </tr>\n",
              "    <tr>\n",
              "      <th>2</th>\n",
              "      <td>Zstation_forCharlie</td>\n",
              "      <td>超话粉丝大咖（周深超话）</td>\n",
              "    </tr>\n",
              "    <tr>\n",
              "      <th>4</th>\n",
              "      <td>反深代词神专驾到，糊坛通通闪开👋</td>\n",
              "      <td>超话粉丝大咖（周深超话）</td>\n",
              "    </tr>\n",
              "    <tr>\n",
              "      <th>5</th>\n",
              "      <td>我只在乎你 镇魂</td>\n",
              "      <td>超话粉丝大咖（周深超话）</td>\n",
              "    </tr>\n",
              "    <tr>\n",
              "      <th>6</th>\n",
              "      <td>固执爱一朵小深花🍑 唯💞歌坛巨星脏脏包（淡网版）</td>\n",
              "      <td>娱乐博主 超话粉丝大咖（周深超话） 微博剪辑视频博主</td>\n",
              "    </tr>\n",
              "    <tr>\n",
              "      <th>13</th>\n",
              "      <td>镇魂</td>\n",
              "      <td>超话粉丝大咖（周深超话）</td>\n",
              "    </tr>\n",
              "    <tr>\n",
              "      <th>14</th>\n",
              "      <td>事在人为 和光同尘</td>\n",
              "      <td>超话粉丝大咖（周深超话） 微博剪辑视频博主</td>\n",
              "    </tr>\n",
              "    <tr>\n",
              "      <th>17</th>\n",
              "      <td>小狗诗集 里面写的是怎么爱小猫🤲 是恶犬</td>\n",
              "      <td>超话粉丝大咖（周深超话）</td>\n",
              "    </tr>\n",
              "    <tr>\n",
              "      <th>18</th>\n",
              "      <td>万物皆有裂痕，那是光照进来都地方，我燃这一生追光逐焰。</td>\n",
              "      <td>超话粉丝大咖（周深超话） 微博原创视频博主</td>\n",
              "    </tr>\n",
              "    <tr>\n",
              "      <th>22</th>\n",
              "      <td>我唯一的猫猫神——周深</td>\n",
              "      <td>超话粉丝大咖（周深超话） 微博原创视频博主</td>\n",
              "    </tr>\n",
              "    <tr>\n",
              "      <th>23</th>\n",
              "      <td>我以渺小爱你</td>\n",
              "      <td>超话粉丝钻咖（周深超话） 微博原创视频博主</td>\n",
              "    </tr>\n",
              "    <tr>\n",
              "      <th>25</th>\n",
              "      <td>摸摸小猫头 万事不用愁</td>\n",
              "      <td>微博原创视频博主 超话粉丝大咖（周深超话）</td>\n",
              "    </tr>\n",
              "    <tr>\n",
              "      <th>28</th>\n",
              "      <td>虽识天下斑驳事，仍渡江湖垂恼人</td>\n",
              "      <td>超话粉丝大咖（周深超话）</td>\n",
              "    </tr>\n",
              "    <tr>\n",
              "      <th>29</th>\n",
              "      <td>喜欢周深，无墙头，话多且密小废米。</td>\n",
              "      <td>超话粉丝大咖（周深超话）</td>\n",
              "    </tr>\n",
              "    <tr>\n",
              "      <th>31</th>\n",
              "      <td>只做周深舔狗丨还想炸了整个世界</td>\n",
              "      <td>超话粉丝大咖（周深超话）</td>\n",
              "    </tr>\n",
              "    <tr>\n",
              "      <th>32</th>\n",
              "      <td>-Love  Yourself-</td>\n",
              "      <td>音乐博主</td>\n",
              "    </tr>\n",
              "    <tr>\n",
              "      <th>33</th>\n",
              "      <td>我喜欢的歌手叫周深，他唱歌超级好听！！！❤ 备用号【温柔有牙齿进阶版】</td>\n",
              "      <td>微博原创视频博主</td>\n",
              "    </tr>\n",
              "    <tr>\n",
              "      <th>36</th>\n",
              "      <td>镇魂｜谢谢周深😘我担是菩萨，我可不是😊</td>\n",
              "      <td>超话粉丝钻咖（周深超话）</td>\n",
              "    </tr>\n",
              "    <tr>\n",
              "      <th>38</th>\n",
              "      <td>I'll be your lighthouse，I'l make it okay💐</td>\n",
              "      <td>娱乐博主 超话粉丝大咖（周深超话）</td>\n",
              "    </tr>\n",
              "    <tr>\n",
              "      <th>41</th>\n",
              "      <td>我以渺小爱你</td>\n",
              "      <td>超话粉丝大咖（周深超话）</td>\n",
              "    </tr>\n",
              "    <tr>\n",
              "      <th>43</th>\n",
              "      <td>我学会痛 为你而痛 ‖镇魂</td>\n",
              "      <td>超话粉丝钻咖（周深超话） 微博原创视频博主</td>\n",
              "    </tr>\n",
              "    <tr>\n",
              "      <th>46</th>\n",
              "      <td>少管你爹我</td>\n",
              "      <td>超话粉丝大咖（周深超话）</td>\n",
              "    </tr>\n",
              "    <tr>\n",
              "      <th>58</th>\n",
              "      <td>【镇魂】温柔捧着爱的雏形。</td>\n",
              "      <td>超话粉丝大咖（周深超话）</td>\n",
              "    </tr>\n",
              "    <tr>\n",
              "      <th>60</th>\n",
              "      <td>只想给我的深崽唯一的爱(深唯)</td>\n",
              "      <td>超话粉丝大咖（周深超话）</td>\n",
              "    </tr>\n",
              "    <tr>\n",
              "      <th>63</th>\n",
              "      <td>周深是我的第一顺位  互联网著名深宝女</td>\n",
              "      <td>娱乐博主 超话粉丝大咖（周深超话） 微博原创视频博主</td>\n",
              "    </tr>\n",
              "    <tr>\n",
              "      <th>64</th>\n",
              "      <td>我的头像是天使头子！</td>\n",
              "      <td>超话粉丝大咖（周深超话）</td>\n",
              "    </tr>\n",
              "    <tr>\n",
              "      <th>66</th>\n",
              "      <td>嫑直关，别单曲。。。 24年新高一，上学期间不在线</td>\n",
              "      <td>超话创作官（周深超话）</td>\n",
              "    </tr>\n",
              "    <tr>\n",
              "      <th>67</th>\n",
              "      <td>都曾呼吸狂奔，相爱支撑，命才成为生。</td>\n",
              "      <td>超话粉丝大咖（周深超话）</td>\n",
              "    </tr>\n",
              "    <tr>\n",
              "      <th>69</th>\n",
              "      <td>谢谢小深！！！！ 😚 周深的唯一小狗😎【镇魂</td>\n",
              "      <td>超话粉丝大咖（周深超话）</td>\n",
              "    </tr>\n",
              "    <tr>\n",
              "      <th>71</th>\n",
              "      <td>无论我在哪里 你都在这里     镇魂</td>\n",
              "      <td>微博原创视频博主</td>\n",
              "    </tr>\n",
              "    <tr>\n",
              "      <th>82</th>\n",
              "      <td>永远不要忘记自己有光，也永远不要忘记自己有梦，我所念所愿的星河皆是周深。 声明：少管我！少找...</td>\n",
              "      <td>微博剪辑视频博主</td>\n",
              "    </tr>\n",
              "    <tr>\n",
              "      <th>86</th>\n",
              "      <td>🪄萌猫烤布蕾芝士全肯定啵特</td>\n",
              "      <td>超话粉丝大咖（周深超话）</td>\n",
              "    </tr>\n",
              "    <tr>\n",
              "      <th>92</th>\n",
              "      <td>追星乐子人，只喜欢周深，只关注周深，只在乎周深【有用的我会听没用的少管我【请大家和我沟通时尽...</td>\n",
              "      <td>超话粉丝大咖（周深超话）</td>\n",
              "    </tr>\n",
              "    <tr>\n",
              "      <th>101</th>\n",
              "      <td></td>\n",
              "      <td>超话粉丝大咖（周深超话）</td>\n",
              "    </tr>\n",
              "    <tr>\n",
              "      <th>107</th>\n",
              "      <td>2024一定要和啾星多多见面！！！</td>\n",
              "      <td>超话粉丝钻咖（周深超话）</td>\n",
              "    </tr>\n",
              "    <tr>\n",
              "      <th>113</th>\n",
              "      <td>爱上一只海妖&amp;amp;深吹</td>\n",
              "      <td>超话主持人（啾星超话）</td>\n",
              "    </tr>\n",
              "    <tr>\n",
              "      <th>115</th>\n",
              "      <td>唯爱周深</td>\n",
              "      <td>超话粉丝大咖（周深超话）</td>\n",
              "    </tr>\n",
              "    <tr>\n",
              "      <th>118</th>\n",
              "      <td>周深仙品</td>\n",
              "      <td>超话粉丝钻咖（周深超话）</td>\n",
              "    </tr>\n",
              "    <tr>\n",
              "      <th>122</th>\n",
              "      <td>邢小迪陛下爱吃东西~~~\\(^o^)/</td>\n",
              "      <td>超话粉丝大咖（周深超话）</td>\n",
              "    </tr>\n",
              "  </tbody>\n",
              "</table>\n",
              "</div>\n",
              "    <div class=\"colab-df-buttons\">\n",
              "\n",
              "  <div class=\"colab-df-container\">\n",
              "    <button class=\"colab-df-convert\" onclick=\"convertToInteractive('df-9ed610e8-0c86-47b1-9c0a-93c63acca5d1')\"\n",
              "            title=\"Convert this dataframe to an interactive table.\"\n",
              "            style=\"display:none;\">\n",
              "\n",
              "  <svg xmlns=\"http://www.w3.org/2000/svg\" height=\"24px\" viewBox=\"0 -960 960 960\">\n",
              "    <path d=\"M120-120v-720h720v720H120Zm60-500h600v-160H180v160Zm220 220h160v-160H400v160Zm0 220h160v-160H400v160ZM180-400h160v-160H180v160Zm440 0h160v-160H620v160ZM180-180h160v-160H180v160Zm440 0h160v-160H620v160Z\"/>\n",
              "  </svg>\n",
              "    </button>\n",
              "\n",
              "  <style>\n",
              "    .colab-df-container {\n",
              "      display:flex;\n",
              "      gap: 12px;\n",
              "    }\n",
              "\n",
              "    .colab-df-convert {\n",
              "      background-color: #E8F0FE;\n",
              "      border: none;\n",
              "      border-radius: 50%;\n",
              "      cursor: pointer;\n",
              "      display: none;\n",
              "      fill: #1967D2;\n",
              "      height: 32px;\n",
              "      padding: 0 0 0 0;\n",
              "      width: 32px;\n",
              "    }\n",
              "\n",
              "    .colab-df-convert:hover {\n",
              "      background-color: #E2EBFA;\n",
              "      box-shadow: 0px 1px 2px rgba(60, 64, 67, 0.3), 0px 1px 3px 1px rgba(60, 64, 67, 0.15);\n",
              "      fill: #174EA6;\n",
              "    }\n",
              "\n",
              "    .colab-df-buttons div {\n",
              "      margin-bottom: 4px;\n",
              "    }\n",
              "\n",
              "    [theme=dark] .colab-df-convert {\n",
              "      background-color: #3B4455;\n",
              "      fill: #D2E3FC;\n",
              "    }\n",
              "\n",
              "    [theme=dark] .colab-df-convert:hover {\n",
              "      background-color: #434B5C;\n",
              "      box-shadow: 0px 1px 3px 1px rgba(0, 0, 0, 0.15);\n",
              "      filter: drop-shadow(0px 1px 2px rgba(0, 0, 0, 0.3));\n",
              "      fill: #FFFFFF;\n",
              "    }\n",
              "  </style>\n",
              "\n",
              "    <script>\n",
              "      const buttonEl =\n",
              "        document.querySelector('#df-9ed610e8-0c86-47b1-9c0a-93c63acca5d1 button.colab-df-convert');\n",
              "      buttonEl.style.display =\n",
              "        google.colab.kernel.accessAllowed ? 'block' : 'none';\n",
              "\n",
              "      async function convertToInteractive(key) {\n",
              "        const element = document.querySelector('#df-9ed610e8-0c86-47b1-9c0a-93c63acca5d1');\n",
              "        const dataTable =\n",
              "          await google.colab.kernel.invokeFunction('convertToInteractive',\n",
              "                                                    [key], {});\n",
              "        if (!dataTable) return;\n",
              "\n",
              "        const docLinkHtml = 'Like what you see? Visit the ' +\n",
              "          '<a target=\"_blank\" href=https://colab.research.google.com/notebooks/data_table.ipynb>data table notebook</a>'\n",
              "          + ' to learn more about interactive tables.';\n",
              "        element.innerHTML = '';\n",
              "        dataTable['output_type'] = 'display_data';\n",
              "        await google.colab.output.renderOutput(dataTable, element);\n",
              "        const docLink = document.createElement('div');\n",
              "        docLink.innerHTML = docLinkHtml;\n",
              "        element.appendChild(docLink);\n",
              "      }\n",
              "    </script>\n",
              "  </div>\n",
              "\n",
              "\n",
              "<div id=\"df-d92575e1-2498-4ce0-92f5-c855bd26cdc2\">\n",
              "  <button class=\"colab-df-quickchart\" onclick=\"quickchart('df-d92575e1-2498-4ce0-92f5-c855bd26cdc2')\"\n",
              "            title=\"Suggest charts\"\n",
              "            style=\"display:none;\">\n",
              "\n",
              "<svg xmlns=\"http://www.w3.org/2000/svg\" height=\"24px\"viewBox=\"0 0 24 24\"\n",
              "     width=\"24px\">\n",
              "    <g>\n",
              "        <path d=\"M19 3H5c-1.1 0-2 .9-2 2v14c0 1.1.9 2 2 2h14c1.1 0 2-.9 2-2V5c0-1.1-.9-2-2-2zM9 17H7v-7h2v7zm4 0h-2V7h2v10zm4 0h-2v-4h2v4z\"/>\n",
              "    </g>\n",
              "</svg>\n",
              "  </button>\n",
              "\n",
              "<style>\n",
              "  .colab-df-quickchart {\n",
              "      --bg-color: #E8F0FE;\n",
              "      --fill-color: #1967D2;\n",
              "      --hover-bg-color: #E2EBFA;\n",
              "      --hover-fill-color: #174EA6;\n",
              "      --disabled-fill-color: #AAA;\n",
              "      --disabled-bg-color: #DDD;\n",
              "  }\n",
              "\n",
              "  [theme=dark] .colab-df-quickchart {\n",
              "      --bg-color: #3B4455;\n",
              "      --fill-color: #D2E3FC;\n",
              "      --hover-bg-color: #434B5C;\n",
              "      --hover-fill-color: #FFFFFF;\n",
              "      --disabled-bg-color: #3B4455;\n",
              "      --disabled-fill-color: #666;\n",
              "  }\n",
              "\n",
              "  .colab-df-quickchart {\n",
              "    background-color: var(--bg-color);\n",
              "    border: none;\n",
              "    border-radius: 50%;\n",
              "    cursor: pointer;\n",
              "    display: none;\n",
              "    fill: var(--fill-color);\n",
              "    height: 32px;\n",
              "    padding: 0;\n",
              "    width: 32px;\n",
              "  }\n",
              "\n",
              "  .colab-df-quickchart:hover {\n",
              "    background-color: var(--hover-bg-color);\n",
              "    box-shadow: 0 1px 2px rgba(60, 64, 67, 0.3), 0 1px 3px 1px rgba(60, 64, 67, 0.15);\n",
              "    fill: var(--button-hover-fill-color);\n",
              "  }\n",
              "\n",
              "  .colab-df-quickchart-complete:disabled,\n",
              "  .colab-df-quickchart-complete:disabled:hover {\n",
              "    background-color: var(--disabled-bg-color);\n",
              "    fill: var(--disabled-fill-color);\n",
              "    box-shadow: none;\n",
              "  }\n",
              "\n",
              "  .colab-df-spinner {\n",
              "    border: 2px solid var(--fill-color);\n",
              "    border-color: transparent;\n",
              "    border-bottom-color: var(--fill-color);\n",
              "    animation:\n",
              "      spin 1s steps(1) infinite;\n",
              "  }\n",
              "\n",
              "  @keyframes spin {\n",
              "    0% {\n",
              "      border-color: transparent;\n",
              "      border-bottom-color: var(--fill-color);\n",
              "      border-left-color: var(--fill-color);\n",
              "    }\n",
              "    20% {\n",
              "      border-color: transparent;\n",
              "      border-left-color: var(--fill-color);\n",
              "      border-top-color: var(--fill-color);\n",
              "    }\n",
              "    30% {\n",
              "      border-color: transparent;\n",
              "      border-left-color: var(--fill-color);\n",
              "      border-top-color: var(--fill-color);\n",
              "      border-right-color: var(--fill-color);\n",
              "    }\n",
              "    40% {\n",
              "      border-color: transparent;\n",
              "      border-right-color: var(--fill-color);\n",
              "      border-top-color: var(--fill-color);\n",
              "    }\n",
              "    60% {\n",
              "      border-color: transparent;\n",
              "      border-right-color: var(--fill-color);\n",
              "    }\n",
              "    80% {\n",
              "      border-color: transparent;\n",
              "      border-right-color: var(--fill-color);\n",
              "      border-bottom-color: var(--fill-color);\n",
              "    }\n",
              "    90% {\n",
              "      border-color: transparent;\n",
              "      border-bottom-color: var(--fill-color);\n",
              "    }\n",
              "  }\n",
              "</style>\n",
              "\n",
              "  <script>\n",
              "    async function quickchart(key) {\n",
              "      const quickchartButtonEl =\n",
              "        document.querySelector('#' + key + ' button');\n",
              "      quickchartButtonEl.disabled = true;  // To prevent multiple clicks.\n",
              "      quickchartButtonEl.classList.add('colab-df-spinner');\n",
              "      try {\n",
              "        const charts = await google.colab.kernel.invokeFunction(\n",
              "            'suggestCharts', [key], {});\n",
              "      } catch (error) {\n",
              "        console.error('Error during call to suggestCharts:', error);\n",
              "      }\n",
              "      quickchartButtonEl.classList.remove('colab-df-spinner');\n",
              "      quickchartButtonEl.classList.add('colab-df-quickchart-complete');\n",
              "    }\n",
              "    (() => {\n",
              "      let quickchartButtonEl =\n",
              "        document.querySelector('#df-d92575e1-2498-4ce0-92f5-c855bd26cdc2 button');\n",
              "      quickchartButtonEl.style.display =\n",
              "        google.colab.kernel.accessAllowed ? 'block' : 'none';\n",
              "    })();\n",
              "  </script>\n",
              "</div>\n",
              "\n",
              "    </div>\n",
              "  </div>\n"
            ],
            "application/vnd.google.colaboratory.intrinsic+json": {
              "type": "dataframe",
              "summary": "{\n  \"name\": \"filtered_df_[filtered_df_['\\u8ba4\\u8bc1\\u72b6\\u6001']==True][['\\u5fae\\u535a\\u7b80\\u4ecb','\\u8ba4\\u8bc1\\u7406\\u7531']]\",\n  \"rows\": 39,\n  \"fields\": [\n    {\n      \"column\": \"\\u5fae\\u535a\\u7b80\\u4ecb\",\n      \"properties\": {\n        \"dtype\": \"string\",\n        \"num_unique_values\": 38,\n        \"samples\": [\n          \"2024\\u4e00\\u5b9a\\u8981\\u548c\\u557e\\u661f\\u591a\\u591a\\u89c1\\u9762\\uff01\\uff01\\uff01\",\n          \"\\u5468\\u6df1\\u4ed9\\u54c1\",\n          \"\\u56fa\\u6267\\u7231\\u4e00\\u6735\\u5c0f\\u6df1\\u82b1\\ud83c\\udf51 \\u552f\\ud83d\\udc9e\\u6b4c\\u575b\\u5de8\\u661f\\u810f\\u810f\\u5305\\uff08\\u6de1\\u7f51\\u7248\\uff09\"\n        ],\n        \"semantic_type\": \"\",\n        \"description\": \"\"\n      }\n    },\n    {\n      \"column\": \"\\u8ba4\\u8bc1\\u7406\\u7531\",\n      \"properties\": {\n        \"dtype\": \"category\",\n        \"num_unique_values\": 14,\n        \"samples\": [\n          \"\\u5a31\\u4e50\\u535a\\u4e3b \\u8d85\\u8bdd\\u7c89\\u4e1d\\u5927\\u5496\\uff08\\u5468\\u6df1\\u8d85\\u8bdd\\uff09\",\n          \"\\u8d85\\u8bdd\\u521b\\u4f5c\\u5b98\\uff08\\u5468\\u6df1\\u8d85\\u8bdd\\uff09\",\n          \"\\u5fae\\u535a\\u539f\\u521b\\u89c6\\u9891\\u535a\\u4e3b\"\n        ],\n        \"semantic_type\": \"\",\n        \"description\": \"\"\n      }\n    }\n  ]\n}"
            }
          },
          "metadata": {},
          "execution_count": 39
        }
      ]
    },
    {
      "cell_type": "markdown",
      "source": [
        "选取关键词“周深”or“啾星”，统计有多少是周深认证大粉"
      ],
      "metadata": {
        "id": "Icd2mDIFrUaN"
      }
    },
    {
      "cell_type": "code",
      "source": [
        "zs_related_user_cnt = filtered_df_[((filtered_df_['认证理由'].str.contains('周深|啾星')) |\\\n",
        "             (filtered_df_['微博简介'].str.contains('周深|啾星')))]['评论者id'].nunique()\n",
        "print(f\"共计 {zs_related_user_cnt} 名用户系周深大粉\")"
      ],
      "metadata": {
        "colab": {
          "base_uri": "https://localhost:8080/"
        },
        "id": "5H-fZNG7or7-",
        "outputId": "56e3215d-9298-4418-927b-bfceaeb16762"
      },
      "execution_count": null,
      "outputs": [
        {
          "output_type": "stream",
          "name": "stdout",
          "text": [
            "共计 37 名用户系周深大粉\n"
          ]
        }
      ]
    },
    {
      "cell_type": "code",
      "source": [
        "total_likes_from_zs_fan = filtered_df_[((filtered_df_['认证理由'].str.contains('周深|啾星')) |\\\n",
        "             (filtered_df_['微博简介'].str.contains('周深|啾星')))]['like_cnt'].sum()\n",
        "print(f\"使用固定文案的周深大粉的评论共计或者点赞量为 {total_likes_from_zs_fan}\")"
      ],
      "metadata": {
        "id": "VERCOAfd77gg",
        "colab": {
          "base_uri": "https://localhost:8080/"
        },
        "outputId": "a33d91fb-7588-40b5-b11f-cd80245512f7"
      },
      "execution_count": null,
      "outputs": [
        {
          "output_type": "stream",
          "name": "stdout",
          "text": [
            "使用固定文案的周深大粉的评论共计或者点赞量为 18228\n"
          ]
        }
      ]
    },
    {
      "cell_type": "code",
      "source": [
        "total_likes_from_zs_fan_2 = filtered_df_new[((filtered_df_new['认证理由'].str.contains('周深|啾星')) |\\\n",
        "             (filtered_df_new['微博简介'].str.contains('周深|啾星')))]['like_cnt'].sum()\n",
        "print(f\"周深大粉的评论共计或者点赞量为 {total_likes_from_zs_fan_2}\")"
      ],
      "metadata": {
        "colab": {
          "base_uri": "https://localhost:8080/"
        },
        "id": "eg9hOkXfAM5X",
        "outputId": "2038ff70-f823-4913-b086-21d20c10359e"
      },
      "execution_count": null,
      "outputs": [
        {
          "output_type": "stream",
          "name": "stdout",
          "text": [
            "周深大粉的评论共计或者点赞量为 36407\n"
          ]
        }
      ]
    },
    {
      "cell_type": "code",
      "source": [],
      "metadata": {
        "id": "9inOsCAL-x0W"
      },
      "execution_count": null,
      "outputs": []
    },
    {
      "cell_type": "markdown",
      "source": [
        "##偷歌话题的简单小分析"
      ],
      "metadata": {
        "id": "UU8w_h3q4oOW"
      }
    },
    {
      "cell_type": "code",
      "source": [
        "df_tg['微博发布时间'] = pd.to_datetime(df_tg['微博发布时间'])"
      ],
      "metadata": {
        "id": "1dXAxNVT4nXA"
      },
      "execution_count": null,
      "outputs": []
    },
    {
      "cell_type": "code",
      "source": [
        "first_mblog = df_tg['微博发布时间'].max().strftime('%Y-%m-%d, %H:%M:%S')\n",
        "last_mblog = df_tg['微博发布时间'].min().strftime('%Y-%m-%d, %H:%M:%S')\n",
        "print(f'首条 #陈丽君 偷歌 话题下微博发布于 {first_mblog} \\n该文件采集到最近一条该话题下微博发布于 {last_mblog}')"
      ],
      "metadata": {
        "colab": {
          "base_uri": "https://localhost:8080/"
        },
        "id": "4DjV5qYm5GgF",
        "outputId": "c76ab43d-c550-4746-af29-19b19a8172f7"
      },
      "execution_count": null,
      "outputs": [
        {
          "output_type": "stream",
          "name": "stdout",
          "text": [
            "首条 #陈丽君 偷歌 话题下微博发布于 2024-08-08, 19:30:52 \n",
            "该文件采集到最近一条该话题下微博发布于 2024-08-04, 21:17:14\n"
          ]
        }
      ]
    },
    {
      "cell_type": "markdown",
      "source": [
        "来看看一共有多少条 陈丽君偷歌 相关微博"
      ],
      "metadata": {
        "id": "n1eHBdApSfIH"
      }
    },
    {
      "cell_type": "code",
      "source": [
        "print(f\"截止2024年8月8日，据不完全统计，\\n共采集到来自{df_tg['微博发布者id'].nunique()}名用户发表的 陈丽君偷歌相关话题微博 {df_tg['微博id'].nunique()}条，\\\n",
        "\\n合计转发 {df_tg['repost_cnt'].sum()}次，\\\n",
        "\\n合计评论 {df_tg['comment_cnt'].sum()}条，\\\n",
        "\\n合计点赞 {df_tg['like_cnt'].sum()}次。\")\n",
        "\n",
        "print('--------------------------')\n",
        "df_tg_verified = df_tg[df_tg['认证状态']==True]\n",
        "print(f\"其中来自于{df_tg_verified['微博发布者id'].nunique()}名认证用户微博 {df_tg_verified['微博id'].nunique()}条\\\n",
        "\\n合计转发 {df_tg_verified['repost_cnt'].sum()}次，\\\n",
        "\\n合计评论 {df_tg_verified['comment_cnt'].sum()}条，\\\n",
        "\\n合计点赞 {df_tg_verified['like_cnt'].sum()}次。\")\n",
        "print('--------------------------')\n",
        "df_tg_zs = df_tg_verified[((df_tg_verified['认证理由'].str.contains('周深|啾星')) |\\\n",
        "             (df_tg_verified['微博简介'].str.contains('周深|啾星')))]\n",
        "print(f\"其中来自于{df_tg_zs['微博发布者id'].nunique()}名带有周深或者啾星相关的认证用户微博 {df_tg_zs['微博id'].nunique()}条，\\\n",
        "\\n合计转发 {df_tg_zs['repost_cnt'].sum()}次，占所有传播次数中的{round(df_tg_zs['repost_cnt'].sum()/df_tg['repost_cnt'].sum()*100,2)}%\\\n",
        "\\n合计评论 {df_tg_zs['comment_cnt'].sum()}条，\\\n",
        "\\n合计点赞 {df_tg_zs['like_cnt'].sum()}次。\")"
      ],
      "metadata": {
        "colab": {
          "base_uri": "https://localhost:8080/"
        },
        "id": "YAfnQM8k6ySb",
        "outputId": "5129b077-3110-4e72-8820-828c7703c195"
      },
      "execution_count": null,
      "outputs": [
        {
          "output_type": "stream",
          "name": "stdout",
          "text": [
            "截止2024年8月8日，据不完全统计，\n",
            "共采集到来自1679名用户发表的 陈丽君偷歌相关话题微博 3091条，\n",
            "合计转发 74371次，\n",
            "合计评论 27208条，\n",
            "合计点赞 328501次。\n",
            "--------------------------\n",
            "其中来自于317名认证用户微博 668条\n",
            "合计转发 71618次，\n",
            "合计评论 21607条，\n",
            "合计点赞 290142次。\n",
            "--------------------------\n",
            "其中来自于272名带有周深或者啾星相关的认证用户微博 590条，\n",
            "合计转发 52803次，占所有传播次数中的71.0%\n",
            "合计评论 15106条，\n",
            "合计点赞 210081次。\n"
          ]
        }
      ]
    },
    {
      "cell_type": "markdown",
      "source": [
        "调用chatgpt API 对微博内容进行简单语义分析"
      ],
      "metadata": {
        "id": "caUbEDjMNf0s"
      }
    },
    {
      "cell_type": "code",
      "source": [
        "import openai\n",
        "openai.api_key = my_api"
      ],
      "metadata": {
        "id": "c_6wh0KtM4i6"
      },
      "execution_count": null,
      "outputs": []
    },
    {
      "cell_type": "code",
      "source": [
        "def ask_question(text, question):\n",
        "    \"\"\"Asks a question about the given text and returns the answer using OpenAI API.\"\"\"\n",
        "    response = openai.ChatCompletion.create(\n",
        "        model=\"gpt-4\",\n",
        "        messages=[\n",
        "            {\"role\": \"system\", \"content\": \"You are a helpful assistant.\"},\n",
        "            {\"role\": \"user\", \"content\": f\"Based on the following Chinese text, answer the question:\\n\\nText: {text}\\n\\nQuestion: {question}\\n\\nAnswer:\"}\n",
        "        ],\n",
        "        max_tokens=200,\n",
        "        temperature=0.5,\n",
        "    )\n",
        "    answer = response.choices[0].message['content'].strip()\n",
        "    return answer"
      ],
      "metadata": {
        "id": "o00I7JcqNLgE"
      },
      "execution_count": null,
      "outputs": []
    },
    {
      "cell_type": "code",
      "source": [],
      "metadata": {
        "id": "7ADrk-fIOxPr"
      },
      "execution_count": null,
      "outputs": []
    },
    {
      "cell_type": "code",
      "source": [
        "sorted_content_by_len = sorted(df_tg_zs['content'], key=len)\n",
        "# pick top 100 long text from mblog contents.\n",
        "chinese_text = ''.join(sorted_content_by_len[:100])\n",
        "question = \"请总结上述文本内容\"\n",
        "answer = ask_question(chinese_text, question)\n",
        "print(\"\\nAnswer to the question:\")\n",
        "print(\"------------------------\")\n",
        "print(answer)"
      ],
      "metadata": {
        "id": "xhu4VWukON1q",
        "colab": {
          "base_uri": "https://localhost:8080/"
        },
        "outputId": "5bc2004a-64d5-4eca-b2ac-5af5511da66c"
      },
      "execution_count": null,
      "outputs": [
        {
          "output_type": "stream",
          "name": "stdout",
          "text": [
            "\n",
            "Answer to the question:\n",
            "------------------------\n",
            "上述文本内容主要是关于陈丽君的一系列评论，主要指责她偷歌，即未经授权使用他人的歌曲。评论者对她的行为表示了强烈的不满和批评，有些评论者甚至对她的粉丝也进行了批评。同时，也有评论者对她的素质和道德进行了质疑。\n"
          ]
        }
      ]
    },
    {
      "cell_type": "code",
      "source": [
        "question = \"上述文本是否含有侮辱性词语，如果有，请罗列出来\"\n",
        "answer = ask_question(chinese_text, question)\n",
        "print(\"\\nAnswer to the question:\")\n",
        "print(\"------------------------\")\n",
        "print(answer)"
      ],
      "metadata": {
        "id": "5Dgt-avvR8aW",
        "colab": {
          "base_uri": "https://localhost:8080/"
        },
        "outputId": "1d82b727-c6bc-4bf0-cc8b-7ab4a772e020"
      },
      "execution_count": null,
      "outputs": [
        {
          "output_type": "stream",
          "name": "stdout",
          "text": [
            "\n",
            "Answer to the question:\n",
            "------------------------\n",
            "是的，上述文本中包含了一些侮辱性词语，如“偷歌”、“恶心”、“明抢不要脸”、“偷歌真j”、“偷歌实证”、“素质感人”、“真有脸”、“厚颜无耻”、“假唱戏 真偷歌”、“黄腔最下流恶心”、“偷歌惯犯”、“出来道歉”、“什么都偷你也是无敌了”、“觉得自己糊就能偷是吧”、“实力没有倒是挺爱偷的十八线糊币网红粉逗我乐”、“自己\n"
          ]
        }
      ]
    },
    {
      "cell_type": "markdown",
      "source": [
        "随便选几个关键词统计一下频次吧\n"
      ],
      "metadata": {
        "id": "ZhkVjO6hJBvD"
      }
    },
    {
      "cell_type": "code",
      "source": [
        "# function that counts the frequency of occurence of certain keywords/num of repost\n",
        "def keyword_count(kw,df):\n",
        "  cnt = 0\n",
        "  repost_cnt = 0\n",
        "  for index,row in df.iterrows():\n",
        "    if kw in row['content']:\n",
        "      cnt+=1\n",
        "      repost_cnt+=row['repost_cnt']\n",
        "  return [cnt,repost_cnt]"
      ],
      "metadata": {
        "id": "sDjT7tDYDnt0"
      },
      "execution_count": null,
      "outputs": []
    },
    {
      "cell_type": "code",
      "source": [
        "abuse_words = ['文盲','侵权','卖姬','嘴硬','偷歌贼','倒反天罡','造谣']\n",
        "print(f'在周深相关认证用户所发布的{df_tg_zs[\"微博id\"].nunique()}条微博中：')\n",
        "for word in abuse_words:\n",
        "  print(f'关键词 {word}, 在{keyword_count(word, df_tg_zs)[0]}条微博中被提及,总传播次数为{keyword_count(word, df_tg_zs)[1]}次')"
      ],
      "metadata": {
        "id": "c8g3nqO6EGJ6",
        "colab": {
          "base_uri": "https://localhost:8080/"
        },
        "outputId": "9793bd52-2da4-45d0-c026-6f4fc81220f1"
      },
      "execution_count": null,
      "outputs": [
        {
          "output_type": "stream",
          "name": "stdout",
          "text": [
            "在周深相关认证用户所发布的590条微博中：\n",
            "关键词 文盲, 在27条微博中被提及,总传播次数为359次\n",
            "关键词 侵权, 在11条微博中被提及,总传播次数为9748次\n",
            "关键词 卖姬, 在7条微博中被提及,总传播次数为10316次\n",
            "关键词 嘴硬, 在30条微博中被提及,总传播次数为11437次\n",
            "关键词 偷歌贼, 在12条微博中被提及,总传播次数为10300次\n",
            "关键词 倒反天罡, 在6条微博中被提及,总传播次数为132次\n",
            "关键词 造谣, 在23条微博中被提及,总传播次数为11049次\n"
          ]
        }
      ]
    },
    {
      "cell_type": "code",
      "source": [],
      "metadata": {
        "id": "LriXV6-aSRs9"
      },
      "execution_count": null,
      "outputs": []
    },
    {
      "cell_type": "code",
      "source": [],
      "metadata": {
        "id": "0mIgWFX4SQ4Y"
      },
      "execution_count": null,
      "outputs": []
    },
    {
      "cell_type": "markdown",
      "source": [
        "## 陈丽君回复周深粉丝 话题 小分析~~\n"
      ],
      "metadata": {
        "id": "pK-oIpZwti44"
      }
    },
    {
      "cell_type": "markdown",
      "source": [
        "一位名为 Stella_天晴 的微博用户于8月8日8点56分发表如下微博：\n",
        "\n",
        "\n",
        "陈丽君女士搞的两次热搜相同点和不同点分析：\n",
        "8月5日ct#陈丽君回应周深粉丝#.\n",
        "8月7日ct#陈丽君回复周深粉丝#.\n",
        "相同点👇🏻\n",
        "1️⃣空降热搜时间：均为当天23点左右\n",
        "2️⃣话题主持人：均为娱乐日爆社\n",
        "3️⃣话题置顶：均为圈内爆爷\n",
        "4️⃣发布媒体：4家相同媒体\n",
        "5️⃣热搜位置：均为文娱磅高位，热搜磅低位\n",
        "不同点👇🏻\n",
        "1️⃣8月7日新增当事人陈丽君女士【因为第一次没关联上当事人所以又重新来一次吗？】\n",
        "2️⃣8月7日有两家蓝v被去掉【可能太贵了？】\n",
        "两次热搜仅一字之差，我还以为我进入循环了\n",
        "看看话题阅读量和原创人数，米姐你不被蹭谁被蹭[泪]\n",
        "\n",
        "补充：陈丽君粉丝一直在声称陈某身份为《体制内》，《党员》，我再补充一点陈某目前还是一个《公众人物》，但这三重身份并不是陈某粉丝以高高在上的姿态威胁网/暴普通人民群众的的保护伞，陈某刻意带素人两上热搜高位引导其粉丝网/暴他人的行为并不能与其身份相匹配，组织相信你给你身份是希望你能够更好的为人民群众服务，而不是让你粉丝作威作福欺负普通人民群众的，望了解@陈丽君_点绛唇"
      ],
      "metadata": {
        "id": "FzqXtOhpudia"
      }
    },
    {
      "cell_type": "markdown",
      "source": [
        "看看到底是不是如这位用户所说，是由陈老师方在买热搜。判断方法：如果是由陈老师或其相关方买热搜，那么炒热话题的就是陈老师的粉丝（职业粉丝）；反之则为周深方。"
      ],
      "metadata": {
        "id": "bpaJKccEu59R"
      }
    },
    {
      "cell_type": "markdown",
      "source": [
        "导入一下爬取的该话题数据"
      ],
      "metadata": {
        "id": "FFE4zA4RvHWo"
      }
    },
    {
      "cell_type": "code",
      "source": [
        "df_res = pd.read_csv('./topics/20240808_2151_陈丽君回应周深粉丝话题相关微博.csv')\n",
        "df_rep = pd.read_csv('./topics/20240808_2151_陈丽君回复周深粉丝话题相关微博.csv')\n",
        "## res - response, rep - reply"
      ],
      "metadata": {
        "id": "7Ghv6VYsSRjL"
      },
      "execution_count": null,
      "outputs": []
    },
    {
      "cell_type": "markdown",
      "source": [
        "让我们来看看圈内爆爷的微博记录：\n",
        "\n",
        "以下为圈内爆爷关于陈老师回应/回复的两条微博\n",
        "\n",
        "5064116207095894,圈内爆爷,#陈丽君回应周深粉丝#陈丽君回应了周深粉丝 关于自己对《光亮》歌词的唱腔质疑结果。 ,2024-08-05 21:00:53,发布于 河北,3005,7707,231437\n",
        "\n",
        "5064873719370717,圈内爆爷,陈丽君本人回复了周深粉丝。#陈丽君回复周深粉丝# ,2024-08-07 23:10:58,发布于 河北,483,1630,108152"
      ],
      "metadata": {
        "id": "FJMChGY-vbn1"
      }
    },
    {
      "cell_type": "code",
      "source": [
        "# data type conversion\n",
        "df_res['微博发布时间'] = pd.to_datetime(df_res['微博发布时间'])\n",
        "df_rep['微博发布时间'] = pd.to_datetime(df_rep['微博发布时间'])"
      ],
      "metadata": {
        "id": "pHJOsgruwn4u"
      },
      "execution_count": null,
      "outputs": []
    },
    {
      "cell_type": "code",
      "source": [
        "rs_1 = pd.Timestamp(year=2024, month=8, day=5, hour=21, minute=0, second=53)\n",
        "rs_2 = pd.Timestamp(year=2024, month=8, day=7, hour=23, minute=10, second=58)\n",
        "df_res.fillna('',inplace=True)\n",
        "df_rep.fillna('',inplace=True)"
      ],
      "metadata": {
        "id": "Ylvu6tNgwz4u"
      },
      "execution_count": null,
      "outputs": []
    },
    {
      "cell_type": "markdown",
      "source": [
        "#### 前期数据整理完毕，进行分析"
      ],
      "metadata": {
        "id": "hV1steH4xhfv"
      }
    },
    {
      "cell_type": "markdown",
      "source": [
        "让我们先准备一点关键词"
      ],
      "metadata": {
        "id": "lB7KA242x0cs"
      }
    },
    {
      "cell_type": "code",
      "source": [
        "clj = ['陈丽君','君君', '橙粒俊','老婆','俊小狗']  # 虽然你们叫的很肉麻，但是没办法嘛，周深老师反正不大像是老婆的样子\n",
        "zs = ['周深','深深','啾星','反深代词','叻'] # 嗯。。反正是我总结出来的 from lots of names"
      ],
      "metadata": {
        "id": "OChH0QZUxbXN"
      },
      "execution_count": null,
      "outputs": []
    },
    {
      "cell_type": "code",
      "source": [
        "## 为了防止再漏掉一些，我们再加上之前 偷歌 话题的参与用户吧, 陈老师的粉丝大概率是不会转发带这种tag的微博的，除非是黑。\n",
        "zs_fans = list(df_tg['微博发布者id'].unique())\n",
        "## 至于陈老师的粉丝么，小弟不才，平时还是有搜集一点的，大概。。。几千个吧。\n",
        "clj_fans = []\n",
        "with open('./userinfo/clj_fans.txt', 'r', encoding='utf-8') as file:\n",
        "    for line in file:\n",
        "        line = line.strip()\n",
        "        columns = line.split(\":\")\n",
        "        if len(columns) > 0:\n",
        "            clj_fans.append(columns[0])\n",
        "clj_fans = [int(x) for x in set(clj_fans) if x.isdigit()]\n",
        "\n"
      ],
      "metadata": {
        "id": "TASk3k0syWeR"
      },
      "execution_count": null,
      "outputs": []
    },
    {
      "cell_type": "markdown",
      "source": [
        "写个function来assign粉籍"
      ],
      "metadata": {
        "id": "gH4uUp3miAOF"
      }
    },
    {
      "cell_type": "code",
      "source": [
        "def fan_of_clj_or_zs(row):\n",
        "    if row['微博发布者id'] in zs_fans:\n",
        "        # return '周深粉 或 陈丽君黑'\n",
        "        return '周深粉'\n",
        "    elif row['微博发布者id'] in clj_fans:\n",
        "        return '陈丽君粉'\n",
        "    else:\n",
        "        return ''\n",
        "\n",
        "# Apply the function to the DataFrames\n",
        "df_res['is_clj_or_zs'] = df_res.apply(fan_of_clj_or_zs, axis=1)\n",
        "df_rep['is_clj_or_zs'] = df_rep.apply(fan_of_clj_or_zs, axis=1)\n",
        "\n",
        "def is_zs_or_clj(df):\n",
        "    def check_x(row):\n",
        "        if any(substring in row['微博简介'] for substring in clj) or \\\n",
        "           any(substring in row['微博发布来源'] for substring in clj) or \\\n",
        "           any(substring in row['认证理由'] for substring in clj):\n",
        "            return '陈丽君粉'\n",
        "        elif any(substring in row['微博简介'] for substring in zs) or \\\n",
        "             any(substring in row['微博发布来源'] for substring in zs) or \\\n",
        "             any(substring in row['认证理由'] for substring in zs) or \\\n",
        "             any(substring in row['微博发布者'] for substring in zs):\n",
        "            return '周深粉'\n",
        "        else:\n",
        "            return '吃瓜路人 或 营销号'\n",
        "\n",
        "    df['is_zs_or_clj'] = df.apply(check_x, axis=1)\n",
        "    return df\n",
        "\n",
        "def fill_empty_rows(df):\n",
        "    df = is_zs_or_clj(df)\n",
        "\n",
        "    df.loc[df['is_clj_or_zs'] == '', 'is_clj_or_zs'] = df.loc[df['is_clj_or_zs'] == '', 'is_zs_or_clj']\n",
        "\n",
        "    df.drop(columns=['is_zs_or_clj'], inplace=True)\n",
        "\n",
        "    return df\n"
      ],
      "metadata": {
        "id": "d_gE53Su93Ja"
      },
      "execution_count": null,
      "outputs": []
    },
    {
      "cell_type": "code",
      "source": [
        "df_res = fill_empty_rows(df_res)\n",
        "df_rep = fill_empty_rows(df_rep)"
      ],
      "metadata": {
        "id": "f8UQA1q0Wxf8"
      },
      "execution_count": null,
      "outputs": []
    },
    {
      "cell_type": "code",
      "source": [
        "df_rep.rename(columns={'is_clj_or_zs':'粉籍'},inplace=True)\n",
        "df_res.rename(columns={'is_clj_or_zs':'粉籍'},inplace=True)"
      ],
      "metadata": {
        "id": "7QWefsR2EWtS"
      },
      "execution_count": null,
      "outputs": []
    },
    {
      "cell_type": "markdown",
      "source": [
        "圈内爆爷营销之前 即早于8/5 21:00，谁在发布关于 陈丽君回应周深粉丝 相关的微博\n"
      ],
      "metadata": {
        "id": "pnptSLqxC0uJ"
      }
    },
    {
      "cell_type": "code",
      "source": [
        "df_res_bf = df_res[df_res['微博发布时间']<rs_1].sort_values('微博发布时间')"
      ],
      "metadata": {
        "id": "fS9cijgv-NJi"
      },
      "execution_count": null,
      "outputs": []
    },
    {
      "cell_type": "markdown",
      "source": [
        "圈内爆爷营销之后 即晚于8/5 21:00，谁在发布关于 陈丽君回应周深粉丝 相关的微博"
      ],
      "metadata": {
        "id": "WR72MmNiDLpm"
      }
    },
    {
      "cell_type": "code",
      "source": [
        "df_res_af = df_res[df_res['微博发布时间']>rs_1].sort_values('微博发布时间')"
      ],
      "metadata": {
        "id": "H8OYsdpLSROZ"
      },
      "execution_count": null,
      "outputs": []
    },
    {
      "cell_type": "markdown",
      "source": [
        "根据粉籍：周深粉/陈丽君粉/路人或者营销号 做一些统计"
      ],
      "metadata": {
        "id": "f_V3okBSfqlz"
      }
    },
    {
      "cell_type": "code",
      "source": [
        "def df_grouped_pct(df_raw):\n",
        "    df = df_raw.groupby('粉籍')\\\n",
        "        .agg(总转发数=('repost_cnt', 'sum'),\n",
        "             总点赞数=('like_cnt', 'sum'),\n",
        "             参与人数=('微博发布者id', 'nunique'))\\\n",
        "        .reset_index()\n",
        "\n",
        "    total_repost = df['总转发数'].sum()\n",
        "    total_like = df['总点赞数'].sum()\n",
        "    total_participants = df['参与人数'].sum()\n",
        "\n",
        "    df['转发数百分比'] = round(df['总转发数'] / total_repost * 100,2)\n",
        "    df['点赞数百分比'] = round(df['总点赞数'] / total_like * 100,2)\n",
        "    df['参与人数百分比'] = round(df['参与人数'] / total_participants * 100,2)\n",
        "\n",
        "    return df\n"
      ],
      "metadata": {
        "id": "K94vpEA8gjaX"
      },
      "execution_count": null,
      "outputs": []
    },
    {
      "cell_type": "markdown",
      "source": [
        "圈内爆爷主持话题前 # 陈丽君回应周深粉丝前 两方粉丝/营销号或路人 所占百分比"
      ],
      "metadata": {
        "id": "7fLRyit1fIOW"
      }
    },
    {
      "cell_type": "code",
      "source": [
        "df_grouped_pct(df_res_bf)"
      ],
      "metadata": {
        "id": "N-qGz9pGtVY9"
      },
      "execution_count": null,
      "outputs": []
    },
    {
      "cell_type": "markdown",
      "source": [
        "圈内爆爷主持话题后 # 陈丽君回应周深粉丝前 两方粉丝/营销号或路人 所占百分比"
      ],
      "metadata": {
        "id": "YePiDEQjfcLd"
      }
    },
    {
      "cell_type": "code",
      "source": [
        "df_grouped_pct(df_res_af)"
      ],
      "metadata": {
        "id": "iZcaj6sYd6AQ"
      },
      "execution_count": null,
      "outputs": []
    },
    {
      "cell_type": "code",
      "source": [
        "df_rep_bf = df_rep[df_rep['微博发布时间']<rs_2].sort_values('微博发布时间')\n",
        "df_rep_af = df_rep[df_rep['微博发布时间']>rs_2].sort_values('微博发布时间')"
      ],
      "metadata": {
        "id": "gxmcy_fbSums"
      },
      "execution_count": null,
      "outputs": []
    },
    {
      "cell_type": "code",
      "source": [
        "df_grouped_pct(df_rep_bf)"
      ],
      "metadata": {
        "id": "VeQrJwtKTD-x"
      },
      "execution_count": null,
      "outputs": []
    },
    {
      "cell_type": "code",
      "source": [
        "df_grouped_pct(df_rep_af)"
      ],
      "metadata": {
        "id": "OEY-s3MaTP0G"
      },
      "execution_count": null,
      "outputs": []
    },
    {
      "cell_type": "markdown",
      "source": [
        "看一下 陈老师的粉丝里有哪些是在 周深方挑起的话题里有发表微博的。"
      ],
      "metadata": {
        "id": "1B8mijene7a7"
      }
    },
    {
      "cell_type": "code",
      "source": [
        "def get_suspicious_clj_fan(df):\n",
        "  res = df[df['粉籍']=='陈丽君粉'].groupby('微博发布者')\\\n",
        "  .agg(info = ('认证理由','first'),\n",
        "       mblog_cnt = ('微博id','nunique'),\n",
        "       first_mblog = ('微博发布时间','min'),\n",
        "       last_mblog = ('微博发布时间','max'),\n",
        "       like_cnt = ('like_cnt','sum'))\\\n",
        "  .sort_values('mblog_cnt',ascending=False).reset_index()\n",
        "  return res"
      ],
      "metadata": {
        "id": "oeY4kyWpUAb2"
      },
      "execution_count": null,
      "outputs": []
    },
    {
      "cell_type": "code",
      "source": [
        "get_suspicious_clj_fan(df_res)"
      ],
      "metadata": {
        "id": "El5yhgdbTXy-"
      },
      "execution_count": null,
      "outputs": []
    },
    {
      "cell_type": "code",
      "source": [
        "get_suspicious_clj_fan(df_rep)"
      ],
      "metadata": {
        "id": "bWGC9qNxVY6D"
      },
      "execution_count": null,
      "outputs": []
    },
    {
      "cell_type": "code",
      "source": [
        "poster_1 = list(get_suspicious_clj_fan(df_res)['微博发布者'].unique())\n",
        "poster_2 = list(get_suspicious_clj_fan(df_rep)['微博发布者'].unique())"
      ],
      "metadata": {
        "id": "pKvTH_NVVn7D"
      },
      "execution_count": null,
      "outputs": []
    },
    {
      "cell_type": "code",
      "source": [
        "np.intersect1d(poster_1, poster_2)"
      ],
      "metadata": {
        "id": "oBLJoT7aVwsS"
      },
      "execution_count": null,
      "outputs": []
    },
    {
      "cell_type": "code",
      "source": [],
      "metadata": {
        "id": "zm7RJQ2AeDPE"
      },
      "execution_count": null,
      "outputs": []
    },
    {
      "cell_type": "markdown",
      "source": [],
      "metadata": {
        "id": "9Y0U-e_8tqoR"
      }
    }
  ]
}